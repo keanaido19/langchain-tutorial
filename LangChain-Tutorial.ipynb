{
 "cells": [
  {
   "metadata": {
    "ExecuteTime": {
     "end_time": "2025-08-08T13:08:05.487554Z",
     "start_time": "2025-08-08T13:07:54.132951Z"
    }
   },
   "cell_type": "code",
   "source": "!pip install langchain",
   "id": "ef9ea5b4462f8fd9",
   "outputs": [
    {
     "name": "stdout",
     "output_type": "stream",
     "text": [
      "Collecting langchain\n",
      "  Downloading langchain-0.3.27-py3-none-any.whl.metadata (7.8 kB)\n",
      "Collecting langchain-core<1.0.0,>=0.3.72 (from langchain)\n",
      "  Downloading langchain_core-0.3.74-py3-none-any.whl.metadata (5.8 kB)\n",
      "Collecting langchain-text-splitters<1.0.0,>=0.3.9 (from langchain)\n",
      "  Downloading langchain_text_splitters-0.3.9-py3-none-any.whl.metadata (1.9 kB)\n",
      "Collecting langsmith>=0.1.17 (from langchain)\n",
      "  Downloading langsmith-0.4.13-py3-none-any.whl.metadata (14 kB)\n",
      "Collecting pydantic<3.0.0,>=2.7.4 (from langchain)\n",
      "  Using cached pydantic-2.11.7-py3-none-any.whl.metadata (67 kB)\n",
      "Collecting SQLAlchemy<3,>=1.4 (from langchain)\n",
      "  Downloading sqlalchemy-2.0.42-cp313-cp313-win_amd64.whl.metadata (9.8 kB)\n",
      "Requirement already satisfied: requests<3,>=2 in c:\\users\\keaton naidoo\\pycharmprojects\\langchain-tutorial\\.venv\\lib\\site-packages (from langchain) (2.32.4)\n",
      "Requirement already satisfied: PyYAML>=5.3 in c:\\users\\keaton naidoo\\pycharmprojects\\langchain-tutorial\\.venv\\lib\\site-packages (from langchain) (6.0.2)\n",
      "Collecting tenacity!=8.4.0,<10.0.0,>=8.1.0 (from langchain-core<1.0.0,>=0.3.72->langchain)\n",
      "  Downloading tenacity-9.1.2-py3-none-any.whl.metadata (1.2 kB)\n",
      "Collecting jsonpatch<2.0,>=1.33 (from langchain-core<1.0.0,>=0.3.72->langchain)\n",
      "  Downloading jsonpatch-1.33-py2.py3-none-any.whl.metadata (3.0 kB)\n",
      "Requirement already satisfied: typing-extensions>=4.7 in c:\\users\\keaton naidoo\\pycharmprojects\\langchain-tutorial\\.venv\\lib\\site-packages (from langchain-core<1.0.0,>=0.3.72->langchain) (4.14.1)\n",
      "Requirement already satisfied: packaging>=23.2 in c:\\users\\keaton naidoo\\pycharmprojects\\langchain-tutorial\\.venv\\lib\\site-packages (from langchain-core<1.0.0,>=0.3.72->langchain) (25.0)\n",
      "Requirement already satisfied: jsonpointer>=1.9 in c:\\users\\keaton naidoo\\pycharmprojects\\langchain-tutorial\\.venv\\lib\\site-packages (from jsonpatch<2.0,>=1.33->langchain-core<1.0.0,>=0.3.72->langchain) (3.0.0)\n",
      "Collecting annotated-types>=0.6.0 (from pydantic<3.0.0,>=2.7.4->langchain)\n",
      "  Using cached annotated_types-0.7.0-py3-none-any.whl.metadata (15 kB)\n",
      "Collecting pydantic-core==2.33.2 (from pydantic<3.0.0,>=2.7.4->langchain)\n",
      "  Using cached pydantic_core-2.33.2-cp313-cp313-win_amd64.whl.metadata (6.9 kB)\n",
      "Collecting typing-inspection>=0.4.0 (from pydantic<3.0.0,>=2.7.4->langchain)\n",
      "  Using cached typing_inspection-0.4.1-py3-none-any.whl.metadata (2.6 kB)\n",
      "Requirement already satisfied: charset_normalizer<4,>=2 in c:\\users\\keaton naidoo\\pycharmprojects\\langchain-tutorial\\.venv\\lib\\site-packages (from requests<3,>=2->langchain) (3.4.2)\n",
      "Requirement already satisfied: idna<4,>=2.5 in c:\\users\\keaton naidoo\\pycharmprojects\\langchain-tutorial\\.venv\\lib\\site-packages (from requests<3,>=2->langchain) (3.10)\n",
      "Requirement already satisfied: urllib3<3,>=1.21.1 in c:\\users\\keaton naidoo\\pycharmprojects\\langchain-tutorial\\.venv\\lib\\site-packages (from requests<3,>=2->langchain) (2.5.0)\n",
      "Requirement already satisfied: certifi>=2017.4.17 in c:\\users\\keaton naidoo\\pycharmprojects\\langchain-tutorial\\.venv\\lib\\site-packages (from requests<3,>=2->langchain) (2025.8.3)\n",
      "Collecting greenlet>=1 (from SQLAlchemy<3,>=1.4->langchain)\n",
      "  Downloading greenlet-3.2.4-cp313-cp313-win_amd64.whl.metadata (4.2 kB)\n",
      "Requirement already satisfied: httpx<1,>=0.23.0 in c:\\users\\keaton naidoo\\pycharmprojects\\langchain-tutorial\\.venv\\lib\\site-packages (from langsmith>=0.1.17->langchain) (0.28.1)\n",
      "Collecting orjson>=3.9.14 (from langsmith>=0.1.17->langchain)\n",
      "  Downloading orjson-3.11.1-cp313-cp313-win_amd64.whl.metadata (43 kB)\n",
      "Collecting requests-toolbelt>=1.0.0 (from langsmith>=0.1.17->langchain)\n",
      "  Downloading requests_toolbelt-1.0.0-py2.py3-none-any.whl.metadata (14 kB)\n",
      "Collecting zstandard>=0.23.0 (from langsmith>=0.1.17->langchain)\n",
      "  Downloading zstandard-0.23.0-cp313-cp313-win_amd64.whl.metadata (3.0 kB)\n",
      "Requirement already satisfied: anyio in c:\\users\\keaton naidoo\\pycharmprojects\\langchain-tutorial\\.venv\\lib\\site-packages (from httpx<1,>=0.23.0->langsmith>=0.1.17->langchain) (4.10.0)\n",
      "Requirement already satisfied: httpcore==1.* in c:\\users\\keaton naidoo\\pycharmprojects\\langchain-tutorial\\.venv\\lib\\site-packages (from httpx<1,>=0.23.0->langsmith>=0.1.17->langchain) (1.0.9)\n",
      "Requirement already satisfied: h11>=0.16 in c:\\users\\keaton naidoo\\pycharmprojects\\langchain-tutorial\\.venv\\lib\\site-packages (from httpcore==1.*->httpx<1,>=0.23.0->langsmith>=0.1.17->langchain) (0.16.0)\n",
      "Requirement already satisfied: sniffio>=1.1 in c:\\users\\keaton naidoo\\pycharmprojects\\langchain-tutorial\\.venv\\lib\\site-packages (from anyio->httpx<1,>=0.23.0->langsmith>=0.1.17->langchain) (1.3.1)\n",
      "Downloading langchain-0.3.27-py3-none-any.whl (1.0 MB)\n",
      "   ---------------------------------------- 0.0/1.0 MB ? eta -:--:--\n",
      "   -------------------- ------------------- 0.5/1.0 MB 2.7 MB/s eta 0:00:01\n",
      "   ---------------------------------------- 1.0/1.0 MB 2.6 MB/s eta 0:00:00\n",
      "Downloading langchain_core-0.3.74-py3-none-any.whl (443 kB)\n",
      "Downloading jsonpatch-1.33-py2.py3-none-any.whl (12 kB)\n",
      "Downloading langchain_text_splitters-0.3.9-py3-none-any.whl (33 kB)\n",
      "Using cached pydantic-2.11.7-py3-none-any.whl (444 kB)\n",
      "Using cached pydantic_core-2.33.2-cp313-cp313-win_amd64.whl (2.0 MB)\n",
      "Downloading sqlalchemy-2.0.42-cp313-cp313-win_amd64.whl (2.1 MB)\n",
      "   ---------------------------------------- 0.0/2.1 MB ? eta -:--:--\n",
      "   --------- ------------------------------ 0.5/2.1 MB 2.8 MB/s eta 0:00:01\n",
      "   ------------------- -------------------- 1.0/2.1 MB 2.6 MB/s eta 0:00:01\n",
      "   ----------------------------- ---------- 1.6/2.1 MB 2.6 MB/s eta 0:00:01\n",
      "   ---------------------------------------- 2.1/2.1 MB 2.6 MB/s eta 0:00:00\n",
      "Downloading tenacity-9.1.2-py3-none-any.whl (28 kB)\n",
      "Using cached annotated_types-0.7.0-py3-none-any.whl (13 kB)\n",
      "Downloading greenlet-3.2.4-cp313-cp313-win_amd64.whl (299 kB)\n",
      "Downloading langsmith-0.4.13-py3-none-any.whl (372 kB)\n",
      "Downloading orjson-3.11.1-cp313-cp313-win_amd64.whl (131 kB)\n",
      "Downloading requests_toolbelt-1.0.0-py2.py3-none-any.whl (54 kB)\n",
      "Using cached typing_inspection-0.4.1-py3-none-any.whl (14 kB)\n",
      "Downloading zstandard-0.23.0-cp313-cp313-win_amd64.whl (495 kB)\n",
      "Installing collected packages: zstandard, typing-inspection, tenacity, pydantic-core, orjson, jsonpatch, greenlet, annotated-types, SQLAlchemy, requests-toolbelt, pydantic, langsmith, langchain-core, langchain-text-splitters, langchain\n",
      "\n",
      "   ---------------- -----------------------  6/15 [greenlet]\n",
      "   --------------------- ------------------  8/15 [SQLAlchemy]\n",
      "   --------------------- ------------------  8/15 [SQLAlchemy]\n",
      "   --------------------- ------------------  8/15 [SQLAlchemy]\n",
      "   --------------------- ------------------  8/15 [SQLAlchemy]\n",
      "   --------------------- ------------------  8/15 [SQLAlchemy]\n",
      "   --------------------- ------------------  8/15 [SQLAlchemy]\n",
      "   --------------------- ------------------  8/15 [SQLAlchemy]\n",
      "   --------------------- ------------------  8/15 [SQLAlchemy]\n",
      "   -------------------------- ------------- 10/15 [pydantic]\n",
      "   -------------------------- ------------- 10/15 [pydantic]\n",
      "   -------------------------- ------------- 10/15 [pydantic]\n",
      "   ----------------------------- ---------- 11/15 [langsmith]\n",
      "   -------------------------------- ------- 12/15 [langchain-core]\n",
      "   -------------------------------- ------- 12/15 [langchain-core]\n",
      "   -------------------------------- ------- 12/15 [langchain-core]\n",
      "   ------------------------------------- -- 14/15 [langchain]\n",
      "   ------------------------------------- -- 14/15 [langchain]\n",
      "   ------------------------------------- -- 14/15 [langchain]\n",
      "   ------------------------------------- -- 14/15 [langchain]\n",
      "   ------------------------------------- -- 14/15 [langchain]\n",
      "   ------------------------------------- -- 14/15 [langchain]\n",
      "   ------------------------------------- -- 14/15 [langchain]\n",
      "   ------------------------------------- -- 14/15 [langchain]\n",
      "   ------------------------------------- -- 14/15 [langchain]\n",
      "   ------------------------------------- -- 14/15 [langchain]\n",
      "   ------------------------------------- -- 14/15 [langchain]\n",
      "   ------------------------------------- -- 14/15 [langchain]\n",
      "   ------------------------------------- -- 14/15 [langchain]\n",
      "   ------------------------------------- -- 14/15 [langchain]\n",
      "   ------------------------------------- -- 14/15 [langchain]\n",
      "   ---------------------------------------- 15/15 [langchain]\n",
      "\n",
      "Successfully installed SQLAlchemy-2.0.42 annotated-types-0.7.0 greenlet-3.2.4 jsonpatch-1.33 langchain-0.3.27 langchain-core-0.3.74 langchain-text-splitters-0.3.9 langsmith-0.4.13 orjson-3.11.1 pydantic-2.11.7 pydantic-core-2.33.2 requests-toolbelt-1.0.0 tenacity-9.1.2 typing-inspection-0.4.1 zstandard-0.23.0\n"
     ]
    },
    {
     "name": "stderr",
     "output_type": "stream",
     "text": [
      "\n",
      "[notice] A new release of pip is available: 25.1.1 -> 25.2\n",
      "[notice] To update, run: python.exe -m pip install --upgrade pip\n"
     ]
    }
   ],
   "execution_count": 3
  },
  {
   "metadata": {
    "ExecuteTime": {
     "end_time": "2025-08-08T13:08:56.901558Z",
     "start_time": "2025-08-08T13:08:54.501389Z"
    }
   },
   "cell_type": "code",
   "source": "!pip install langchain-anthropic",
   "id": "f9cf720d956e5600",
   "outputs": [
    {
     "name": "stdout",
     "output_type": "stream",
     "text": [
      "Collecting langchain-anthropic\n",
      "  Downloading langchain_anthropic-0.3.18-py3-none-any.whl.metadata (1.9 kB)\n",
      "Collecting anthropic<1,>=0.60.0 (from langchain-anthropic)\n",
      "  Downloading anthropic-0.61.0-py3-none-any.whl.metadata (27 kB)\n",
      "Requirement already satisfied: langchain-core<1.0.0,>=0.3.72 in c:\\users\\keaton naidoo\\pycharmprojects\\langchain-tutorial\\.venv\\lib\\site-packages (from langchain-anthropic) (0.3.74)\n",
      "Requirement already satisfied: pydantic<3.0.0,>=2.7.4 in c:\\users\\keaton naidoo\\pycharmprojects\\langchain-tutorial\\.venv\\lib\\site-packages (from langchain-anthropic) (2.11.7)\n",
      "Requirement already satisfied: anyio<5,>=3.5.0 in c:\\users\\keaton naidoo\\pycharmprojects\\langchain-tutorial\\.venv\\lib\\site-packages (from anthropic<1,>=0.60.0->langchain-anthropic) (4.10.0)\n",
      "Collecting distro<2,>=1.7.0 (from anthropic<1,>=0.60.0->langchain-anthropic)\n",
      "  Using cached distro-1.9.0-py3-none-any.whl.metadata (6.8 kB)\n",
      "Requirement already satisfied: httpx<1,>=0.25.0 in c:\\users\\keaton naidoo\\pycharmprojects\\langchain-tutorial\\.venv\\lib\\site-packages (from anthropic<1,>=0.60.0->langchain-anthropic) (0.28.1)\n",
      "Collecting jiter<1,>=0.4.0 (from anthropic<1,>=0.60.0->langchain-anthropic)\n",
      "  Using cached jiter-0.10.0-cp313-cp313-win_amd64.whl.metadata (5.3 kB)\n",
      "Requirement already satisfied: sniffio in c:\\users\\keaton naidoo\\pycharmprojects\\langchain-tutorial\\.venv\\lib\\site-packages (from anthropic<1,>=0.60.0->langchain-anthropic) (1.3.1)\n",
      "Requirement already satisfied: typing-extensions<5,>=4.10 in c:\\users\\keaton naidoo\\pycharmprojects\\langchain-tutorial\\.venv\\lib\\site-packages (from anthropic<1,>=0.60.0->langchain-anthropic) (4.14.1)\n",
      "Requirement already satisfied: idna>=2.8 in c:\\users\\keaton naidoo\\pycharmprojects\\langchain-tutorial\\.venv\\lib\\site-packages (from anyio<5,>=3.5.0->anthropic<1,>=0.60.0->langchain-anthropic) (3.10)\n",
      "Requirement already satisfied: certifi in c:\\users\\keaton naidoo\\pycharmprojects\\langchain-tutorial\\.venv\\lib\\site-packages (from httpx<1,>=0.25.0->anthropic<1,>=0.60.0->langchain-anthropic) (2025.8.3)\n",
      "Requirement already satisfied: httpcore==1.* in c:\\users\\keaton naidoo\\pycharmprojects\\langchain-tutorial\\.venv\\lib\\site-packages (from httpx<1,>=0.25.0->anthropic<1,>=0.60.0->langchain-anthropic) (1.0.9)\n",
      "Requirement already satisfied: h11>=0.16 in c:\\users\\keaton naidoo\\pycharmprojects\\langchain-tutorial\\.venv\\lib\\site-packages (from httpcore==1.*->httpx<1,>=0.25.0->anthropic<1,>=0.60.0->langchain-anthropic) (0.16.0)\n",
      "Requirement already satisfied: langsmith>=0.3.45 in c:\\users\\keaton naidoo\\pycharmprojects\\langchain-tutorial\\.venv\\lib\\site-packages (from langchain-core<1.0.0,>=0.3.72->langchain-anthropic) (0.4.13)\n",
      "Requirement already satisfied: tenacity!=8.4.0,<10.0.0,>=8.1.0 in c:\\users\\keaton naidoo\\pycharmprojects\\langchain-tutorial\\.venv\\lib\\site-packages (from langchain-core<1.0.0,>=0.3.72->langchain-anthropic) (9.1.2)\n",
      "Requirement already satisfied: jsonpatch<2.0,>=1.33 in c:\\users\\keaton naidoo\\pycharmprojects\\langchain-tutorial\\.venv\\lib\\site-packages (from langchain-core<1.0.0,>=0.3.72->langchain-anthropic) (1.33)\n",
      "Requirement already satisfied: PyYAML>=5.3 in c:\\users\\keaton naidoo\\pycharmprojects\\langchain-tutorial\\.venv\\lib\\site-packages (from langchain-core<1.0.0,>=0.3.72->langchain-anthropic) (6.0.2)\n",
      "Requirement already satisfied: packaging>=23.2 in c:\\users\\keaton naidoo\\pycharmprojects\\langchain-tutorial\\.venv\\lib\\site-packages (from langchain-core<1.0.0,>=0.3.72->langchain-anthropic) (25.0)\n",
      "Requirement already satisfied: jsonpointer>=1.9 in c:\\users\\keaton naidoo\\pycharmprojects\\langchain-tutorial\\.venv\\lib\\site-packages (from jsonpatch<2.0,>=1.33->langchain-core<1.0.0,>=0.3.72->langchain-anthropic) (3.0.0)\n",
      "Requirement already satisfied: annotated-types>=0.6.0 in c:\\users\\keaton naidoo\\pycharmprojects\\langchain-tutorial\\.venv\\lib\\site-packages (from pydantic<3.0.0,>=2.7.4->langchain-anthropic) (0.7.0)\n",
      "Requirement already satisfied: pydantic-core==2.33.2 in c:\\users\\keaton naidoo\\pycharmprojects\\langchain-tutorial\\.venv\\lib\\site-packages (from pydantic<3.0.0,>=2.7.4->langchain-anthropic) (2.33.2)\n",
      "Requirement already satisfied: typing-inspection>=0.4.0 in c:\\users\\keaton naidoo\\pycharmprojects\\langchain-tutorial\\.venv\\lib\\site-packages (from pydantic<3.0.0,>=2.7.4->langchain-anthropic) (0.4.1)\n",
      "Requirement already satisfied: orjson>=3.9.14 in c:\\users\\keaton naidoo\\pycharmprojects\\langchain-tutorial\\.venv\\lib\\site-packages (from langsmith>=0.3.45->langchain-core<1.0.0,>=0.3.72->langchain-anthropic) (3.11.1)\n",
      "Requirement already satisfied: requests-toolbelt>=1.0.0 in c:\\users\\keaton naidoo\\pycharmprojects\\langchain-tutorial\\.venv\\lib\\site-packages (from langsmith>=0.3.45->langchain-core<1.0.0,>=0.3.72->langchain-anthropic) (1.0.0)\n",
      "Requirement already satisfied: requests>=2.0.0 in c:\\users\\keaton naidoo\\pycharmprojects\\langchain-tutorial\\.venv\\lib\\site-packages (from langsmith>=0.3.45->langchain-core<1.0.0,>=0.3.72->langchain-anthropic) (2.32.4)\n",
      "Requirement already satisfied: zstandard>=0.23.0 in c:\\users\\keaton naidoo\\pycharmprojects\\langchain-tutorial\\.venv\\lib\\site-packages (from langsmith>=0.3.45->langchain-core<1.0.0,>=0.3.72->langchain-anthropic) (0.23.0)\n",
      "Requirement already satisfied: charset_normalizer<4,>=2 in c:\\users\\keaton naidoo\\pycharmprojects\\langchain-tutorial\\.venv\\lib\\site-packages (from requests>=2.0.0->langsmith>=0.3.45->langchain-core<1.0.0,>=0.3.72->langchain-anthropic) (3.4.2)\n",
      "Requirement already satisfied: urllib3<3,>=1.21.1 in c:\\users\\keaton naidoo\\pycharmprojects\\langchain-tutorial\\.venv\\lib\\site-packages (from requests>=2.0.0->langsmith>=0.3.45->langchain-core<1.0.0,>=0.3.72->langchain-anthropic) (2.5.0)\n",
      "Downloading langchain_anthropic-0.3.18-py3-none-any.whl (29 kB)\n",
      "Downloading anthropic-0.61.0-py3-none-any.whl (294 kB)\n",
      "Using cached distro-1.9.0-py3-none-any.whl (20 kB)\n",
      "Using cached jiter-0.10.0-cp313-cp313-win_amd64.whl (205 kB)\n",
      "Installing collected packages: jiter, distro, anthropic, langchain-anthropic\n",
      "\n",
      "   -------------------- ------------------- 2/4 [anthropic]\n",
      "   -------------------- ------------------- 2/4 [anthropic]\n",
      "   -------------------- ------------------- 2/4 [anthropic]\n",
      "   ---------------------------------------- 4/4 [langchain-anthropic]\n",
      "\n",
      "Successfully installed anthropic-0.61.0 distro-1.9.0 jiter-0.10.0 langchain-anthropic-0.3.18\n"
     ]
    },
    {
     "name": "stderr",
     "output_type": "stream",
     "text": [
      "\n",
      "[notice] A new release of pip is available: 25.1.1 -> 25.2\n",
      "[notice] To update, run: python.exe -m pip install --upgrade pip\n"
     ]
    }
   ],
   "execution_count": 4
  },
  {
   "metadata": {
    "ExecuteTime": {
     "end_time": "2025-08-08T13:43:50.013736Z",
     "start_time": "2025-08-08T13:43:48.343484Z"
    }
   },
   "cell_type": "code",
   "source": "!pip install python-dotenv",
   "id": "520a0bcf08a3c30a",
   "outputs": [
    {
     "name": "stdout",
     "output_type": "stream",
     "text": [
      "Requirement already satisfied: python-dotenv in c:\\users\\keaton naidoo\\pycharmprojects\\langchain-tutorial\\.venv\\lib\\site-packages (1.1.1)\n"
     ]
    }
   ],
   "execution_count": 13
  },
  {
   "metadata": {
    "ExecuteTime": {
     "end_time": "2025-08-08T13:43:55.721870Z",
     "start_time": "2025-08-08T13:43:55.718401Z"
    }
   },
   "cell_type": "code",
   "source": [
    "from dotenv import load_dotenv\n",
    "\n",
    "load_dotenv()"
   ],
   "id": "324925a81293f69b",
   "outputs": [
    {
     "data": {
      "text/plain": [
       "True"
      ]
     },
     "execution_count": 14,
     "metadata": {},
     "output_type": "execute_result"
    }
   ],
   "execution_count": 14
  },
  {
   "metadata": {
    "ExecuteTime": {
     "end_time": "2025-08-08T13:45:28.455141Z",
     "start_time": "2025-08-08T13:45:28.452296Z"
    }
   },
   "cell_type": "code",
   "source": [
    "from langchain_anthropic import ChatAnthropic\n",
    "\n",
    "llm = ChatAnthropic(model_name=\"claude-3-haiku-20240307\", stop=None, timeout=None)"
   ],
   "id": "aa4b4006d3852d5b",
   "outputs": [],
   "execution_count": 16
  },
  {
   "metadata": {
    "ExecuteTime": {
     "end_time": "2025-08-08T13:45:43.905760Z",
     "start_time": "2025-08-08T13:45:41.212867Z"
    }
   },
   "cell_type": "code",
   "source": "result = llm.invoke(\"What is LangChain?\")",
   "id": "2b03d63cd93b3c51",
   "outputs": [],
   "execution_count": 17
  },
  {
   "metadata": {
    "ExecuteTime": {
     "end_time": "2025-08-08T13:46:00.657181Z",
     "start_time": "2025-08-08T13:46:00.654738Z"
    }
   },
   "cell_type": "code",
   "source": "print(result)",
   "id": "1e4d5380ef3adcd6",
   "outputs": [
    {
     "name": "stdout",
     "output_type": "stream",
     "text": [
      "content='LangChain is a framework for building applications with large language models (LLMs). It provides a set of abstractions and tools to make it easier to build applications that leverage LLMs, such as chatbots, question-answering systems, and more.\\n\\nSome key features and benefits of LangChain include:\\n\\n1. **Modular Design**: LangChain has a modular design, which allows you to easily swap out different components (like the LLM, retriever, etc.) to build your application.\\n\\n2. **Agent Abstraction**: LangChain provides an \"agent\" abstraction, which allows you to build agents that can interact with their environment, maintain state, and make decisions.\\n\\n3. **Memory Management**: LangChain provides tools for managing the memory and context of an agent, which is important for building more advanced applications.\\n\\n4. **Toolkit of Reusable Components**: LangChain provides a toolkit of reusable components (like document loaders, embedders, retrievers, etc.) that you can use to build your application.\\n\\n5. **Scalability**: LangChain is designed to be scalable, with support for things like distributed document stores and caching.\\n\\n6. **Extensibility**: LangChain is designed to be extensible, with a plugin system that allows you to easily add new functionality.\\n\\nOverall, LangChain is a powerful framework for building applications that leverage large language models, and it can help accelerate the development of these types of applications.' additional_kwargs={} response_metadata={'id': 'msg_01XXWmApZ8FPZtiG5btYhVZ2', 'model': 'claude-3-haiku-20240307', 'stop_reason': 'end_turn', 'stop_sequence': None, 'usage': {'cache_creation_input_tokens': 0, 'cache_read_input_tokens': 0, 'input_tokens': 14, 'output_tokens': 335, 'server_tool_use': None, 'service_tier': 'standard'}, 'model_name': 'claude-3-haiku-20240307'} id='run--43471125-6023-4769-becf-a22d5d25157f-0' usage_metadata={'input_tokens': 14, 'output_tokens': 335, 'total_tokens': 349, 'input_token_details': {'cache_read': 0, 'cache_creation': 0}}\n"
     ]
    }
   ],
   "execution_count": 18
  },
  {
   "metadata": {
    "ExecuteTime": {
     "end_time": "2025-08-08T13:46:03.027188Z",
     "start_time": "2025-08-08T13:46:03.024793Z"
    }
   },
   "cell_type": "code",
   "source": "print(result.content)",
   "id": "aad0081c7974a16f",
   "outputs": [
    {
     "name": "stdout",
     "output_type": "stream",
     "text": [
      "LangChain is a framework for building applications with large language models (LLMs). It provides a set of abstractions and tools to make it easier to build applications that leverage LLMs, such as chatbots, question-answering systems, and more.\n",
      "\n",
      "Some key features and benefits of LangChain include:\n",
      "\n",
      "1. **Modular Design**: LangChain has a modular design, which allows you to easily swap out different components (like the LLM, retriever, etc.) to build your application.\n",
      "\n",
      "2. **Agent Abstraction**: LangChain provides an \"agent\" abstraction, which allows you to build agents that can interact with their environment, maintain state, and make decisions.\n",
      "\n",
      "3. **Memory Management**: LangChain provides tools for managing the memory and context of an agent, which is important for building more advanced applications.\n",
      "\n",
      "4. **Toolkit of Reusable Components**: LangChain provides a toolkit of reusable components (like document loaders, embedders, retrievers, etc.) that you can use to build your application.\n",
      "\n",
      "5. **Scalability**: LangChain is designed to be scalable, with support for things like distributed document stores and caching.\n",
      "\n",
      "6. **Extensibility**: LangChain is designed to be extensible, with a plugin system that allows you to easily add new functionality.\n",
      "\n",
      "Overall, LangChain is a powerful framework for building applications that leverage large language models, and it can help accelerate the development of these types of applications.\n"
     ]
    }
   ],
   "execution_count": 19
  },
  {
   "metadata": {
    "ExecuteTime": {
     "end_time": "2025-08-08T13:51:14.950645Z",
     "start_time": "2025-08-08T13:51:14.925207Z"
    }
   },
   "cell_type": "code",
   "source": [
    "from langchain_core.prompts import ChatPromptTemplate\n",
    "\n",
    "prompt = ChatPromptTemplate.from_messages([\n",
    "    (\"system\", \"You are a software development expert, training some absolute beginner students.\"),\n",
    "    (\"user\", \"{input}\")\n",
    "])\n",
    "\n",
    "print(prompt)"
   ],
   "id": "ced7993a671d0c3e",
   "outputs": [
    {
     "name": "stdout",
     "output_type": "stream",
     "text": [
      "input_variables=['input'] input_types={} partial_variables={} messages=[SystemMessagePromptTemplate(prompt=PromptTemplate(input_variables=[], input_types={}, partial_variables={}, template='You are a software development expert, training some absolute beginner students.'), additional_kwargs={}), HumanMessagePromptTemplate(prompt=PromptTemplate(input_variables=['input'], input_types={}, partial_variables={}, template='{input}'), additional_kwargs={})]\n"
     ]
    }
   ],
   "execution_count": 20
  },
  {
   "metadata": {
    "ExecuteTime": {
     "end_time": "2025-08-08T13:54:16.861054Z",
     "start_time": "2025-08-08T13:54:16.858180Z"
    }
   },
   "cell_type": "code",
   "source": [
    "chain = prompt | llm\n",
    "\n",
    "print(chain)"
   ],
   "id": "261d139c29557c8d",
   "outputs": [
    {
     "name": "stdout",
     "output_type": "stream",
     "text": [
      "first=ChatPromptTemplate(input_variables=['input'], input_types={}, partial_variables={}, messages=[SystemMessagePromptTemplate(prompt=PromptTemplate(input_variables=[], input_types={}, partial_variables={}, template='You are a software development expert, training some absolute beginner students.'), additional_kwargs={}), HumanMessagePromptTemplate(prompt=PromptTemplate(input_variables=['input'], input_types={}, partial_variables={}, template='{input}'), additional_kwargs={})]) middle=[] last=ChatAnthropic(model='claude-3-haiku-20240307', anthropic_api_url='https://api.anthropic.com', anthropic_api_key=SecretStr('**********'), model_kwargs={})\n"
     ]
    }
   ],
   "execution_count": 21
  },
  {
   "metadata": {
    "ExecuteTime": {
     "end_time": "2025-08-08T13:57:59.972448Z",
     "start_time": "2025-08-08T13:57:56.419935Z"
    }
   },
   "cell_type": "code",
   "source": "chain_result = chain.invoke({\"input\": \"What is LangChain?\"})",
   "id": "f12982661478f218",
   "outputs": [],
   "execution_count": 23
  },
  {
   "metadata": {
    "ExecuteTime": {
     "end_time": "2025-08-08T13:59:00.175185Z",
     "start_time": "2025-08-08T13:59:00.172676Z"
    }
   },
   "cell_type": "code",
   "source": "print(chain_result.content)",
   "id": "d47bba5013525125",
   "outputs": [
    {
     "name": "stdout",
     "output_type": "stream",
     "text": [
      "LangChain is a framework for building applications with large language models (LLMs). It provides a set of abstractions and tools to make it easier to build applications that leverage LLMs, such as chatbots, question-answering systems, and other types of AI-powered applications.\n",
      "\n",
      "Here are some key things to know about LangChain:\n",
      "\n",
      "1. **Agents and Chains**: LangChain provides the concept of \"agents\" and \"chains\" to help structure the flow of information and decision-making in your application. Agents are autonomous entities that can interact with the environment, while chains are sequences of agents that work together to accomplish a task.\n",
      "\n",
      "2. **Memory and Context**: LangChain helps you manage the memory and context of your application, making it easier to maintain state and keep track of relevant information as the conversation or task progresses.\n",
      "\n",
      "3. **Prompts and Prompting**: LangChain provides tools and abstractions for working with prompts, which are the inputs you provide to the LLM to generate a response. This includes things like prompt templates, dynamic prompt generation, and prompt optimization.\n",
      "\n",
      "4. **Integrations**: LangChain integrates with a variety of LLMs, including OpenAI's GPT-3, Anthropic's InstructGPT, and Hugging Face's Transformers. It also integrates with other tools and services, such as databases, APIs, and knowledge bases.\n",
      "\n",
      "5. **Components and Utilities**: LangChain provides a set of reusable components and utilities that you can use to build your application, such as text summarizers, question answerers, and knowledge bases.\n",
      "\n",
      "Overall, LangChain is designed to make it easier to build complex, scalable, and robust applications that leverage the power of large language models. It provides a structured and opinionated approach to application development, while still allowing for a high degree of customization and flexibility.\n"
     ]
    }
   ],
   "execution_count": 25
  },
  {
   "metadata": {
    "ExecuteTime": {
     "end_time": "2025-08-08T14:02:57.681405Z",
     "start_time": "2025-08-08T14:02:54.527614Z"
    }
   },
   "cell_type": "code",
   "source": [
    "from langchain_core.output_parsers import StrOutputParser\n",
    "\n",
    "output_parser = StrOutputParser()\n",
    "\n",
    "chain = prompt | llm | output_parser\n",
    "\n",
    "parsed_chain_result = chain.invoke({\"input\": \"What is LangChain?\"})"
   ],
   "id": "11fd1a4aceaaefe6",
   "outputs": [],
   "execution_count": 26
  },
  {
   "metadata": {
    "ExecuteTime": {
     "end_time": "2025-08-08T14:03:37.502948Z",
     "start_time": "2025-08-08T14:03:37.500054Z"
    }
   },
   "cell_type": "code",
   "source": "print(parsed_chain_result)",
   "id": "fad90112cee46599",
   "outputs": [
    {
     "name": "stdout",
     "output_type": "stream",
     "text": [
      "LangChain is a framework for building applications with large language models (LLMs). It provides a set of abstractions and tools to make it easier to build applications that leverage LLMs, such as chatbots, question-answering systems, and more.\n",
      "\n",
      "Here are some key things to know about LangChain:\n",
      "\n",
      "1. **Abstractions**: LangChain provides a set of abstractions like agents, prompts, memory, and chains that help developers build applications with LLMs in a modular and scalable way.\n",
      "\n",
      "2. **Agents**: Agents are the core building blocks of LangChain applications. They represent the decision-making components that interact with the LLM to perform tasks.\n",
      "\n",
      "3. **Prompts**: LangChain provides a way to easily create and manage the prompts that are sent to the LLM. This includes techniques like prompt templates and prompt engineering.\n",
      "\n",
      "4. **Memory**: LangChain includes tools for adding memory to your agents, which allows them to maintain context and state across multiple interactions.\n",
      "\n",
      "5. **Chains**: Chains are sequences of agents that can be composed together to create more complex applications. This allows you to break down your application into smaller, reusable components.\n",
      "\n",
      "6. **Integrations**: LangChain provides integrations with popular LLM providers like OpenAI, Anthropic, and Hugging Face, making it easy to use different models in your application.\n",
      "\n",
      "7. **Tooling**: LangChain includes a set of helpful tools and utilities, such as the ability to load and query data from various sources, that make it easier to build LLM-powered applications.\n",
      "\n",
      "Overall, LangChain is a powerful framework that can help developers rapidly build applications that leverage the capabilities of large language models. It provides a structured and modular approach to working with LLMs, which can be especially helpful for beginners who are just getting started with this technology.\n"
     ]
    }
   ],
   "execution_count": 27
  },
  {
   "metadata": {
    "ExecuteTime": {
     "end_time": "2025-08-08T16:40:39.507209Z",
     "start_time": "2025-08-08T16:40:38.302969Z"
    }
   },
   "cell_type": "code",
   "source": "!pip install beautifulsoup4",
   "id": "a5b89d2f53bf7f49",
   "outputs": [
    {
     "name": "stdout",
     "output_type": "stream",
     "text": [
      "Requirement already satisfied: beautifulsoup4 in c:\\users\\keaton naidoo\\pycharmprojects\\langchain-tutorial\\.venv\\lib\\site-packages (4.13.4)\n",
      "Requirement already satisfied: soupsieve>1.2 in c:\\users\\keaton naidoo\\pycharmprojects\\langchain-tutorial\\.venv\\lib\\site-packages (from beautifulsoup4) (2.7)\n",
      "Requirement already satisfied: typing-extensions>=4.0.0 in c:\\users\\keaton naidoo\\pycharmprojects\\langchain-tutorial\\.venv\\lib\\site-packages (from beautifulsoup4) (4.14.1)\n"
     ]
    }
   ],
   "execution_count": 32
  },
  {
   "metadata": {
    "ExecuteTime": {
     "end_time": "2025-08-08T16:40:56.825930Z",
     "start_time": "2025-08-08T16:40:52.820181Z"
    }
   },
   "cell_type": "code",
   "source": "!pip install langchain-openai",
   "id": "15951c8c8ffd0e93",
   "outputs": [
    {
     "name": "stdout",
     "output_type": "stream",
     "text": [
      "Collecting langchain-openai\n",
      "  Downloading langchain_openai-0.3.29-py3-none-any.whl.metadata (2.4 kB)\n",
      "Requirement already satisfied: langchain-core<1.0.0,>=0.3.74 in c:\\users\\keaton naidoo\\pycharmprojects\\langchain-tutorial\\.venv\\lib\\site-packages (from langchain-openai) (0.3.74)\n",
      "Collecting openai<2.0.0,>=1.86.0 (from langchain-openai)\n",
      "  Downloading openai-1.99.4-py3-none-any.whl.metadata (29 kB)\n",
      "Collecting tiktoken<1,>=0.7 (from langchain-openai)\n",
      "  Using cached tiktoken-0.10.0-cp313-cp313-win_amd64.whl.metadata (6.9 kB)\n",
      "Requirement already satisfied: langsmith>=0.3.45 in c:\\users\\keaton naidoo\\pycharmprojects\\langchain-tutorial\\.venv\\lib\\site-packages (from langchain-core<1.0.0,>=0.3.74->langchain-openai) (0.4.13)\n",
      "Requirement already satisfied: tenacity!=8.4.0,<10.0.0,>=8.1.0 in c:\\users\\keaton naidoo\\pycharmprojects\\langchain-tutorial\\.venv\\lib\\site-packages (from langchain-core<1.0.0,>=0.3.74->langchain-openai) (9.1.2)\n",
      "Requirement already satisfied: jsonpatch<2.0,>=1.33 in c:\\users\\keaton naidoo\\pycharmprojects\\langchain-tutorial\\.venv\\lib\\site-packages (from langchain-core<1.0.0,>=0.3.74->langchain-openai) (1.33)\n",
      "Requirement already satisfied: PyYAML>=5.3 in c:\\users\\keaton naidoo\\pycharmprojects\\langchain-tutorial\\.venv\\lib\\site-packages (from langchain-core<1.0.0,>=0.3.74->langchain-openai) (6.0.2)\n",
      "Requirement already satisfied: typing-extensions>=4.7 in c:\\users\\keaton naidoo\\pycharmprojects\\langchain-tutorial\\.venv\\lib\\site-packages (from langchain-core<1.0.0,>=0.3.74->langchain-openai) (4.14.1)\n",
      "Requirement already satisfied: packaging>=23.2 in c:\\users\\keaton naidoo\\pycharmprojects\\langchain-tutorial\\.venv\\lib\\site-packages (from langchain-core<1.0.0,>=0.3.74->langchain-openai) (25.0)\n",
      "Requirement already satisfied: pydantic>=2.7.4 in c:\\users\\keaton naidoo\\pycharmprojects\\langchain-tutorial\\.venv\\lib\\site-packages (from langchain-core<1.0.0,>=0.3.74->langchain-openai) (2.11.7)\n",
      "Requirement already satisfied: jsonpointer>=1.9 in c:\\users\\keaton naidoo\\pycharmprojects\\langchain-tutorial\\.venv\\lib\\site-packages (from jsonpatch<2.0,>=1.33->langchain-core<1.0.0,>=0.3.74->langchain-openai) (3.0.0)\n",
      "Requirement already satisfied: anyio<5,>=3.5.0 in c:\\users\\keaton naidoo\\pycharmprojects\\langchain-tutorial\\.venv\\lib\\site-packages (from openai<2.0.0,>=1.86.0->langchain-openai) (4.10.0)\n",
      "Requirement already satisfied: distro<2,>=1.7.0 in c:\\users\\keaton naidoo\\pycharmprojects\\langchain-tutorial\\.venv\\lib\\site-packages (from openai<2.0.0,>=1.86.0->langchain-openai) (1.9.0)\n",
      "Requirement already satisfied: httpx<1,>=0.23.0 in c:\\users\\keaton naidoo\\pycharmprojects\\langchain-tutorial\\.venv\\lib\\site-packages (from openai<2.0.0,>=1.86.0->langchain-openai) (0.28.1)\n",
      "Requirement already satisfied: jiter<1,>=0.4.0 in c:\\users\\keaton naidoo\\pycharmprojects\\langchain-tutorial\\.venv\\lib\\site-packages (from openai<2.0.0,>=1.86.0->langchain-openai) (0.10.0)\n",
      "Requirement already satisfied: sniffio in c:\\users\\keaton naidoo\\pycharmprojects\\langchain-tutorial\\.venv\\lib\\site-packages (from openai<2.0.0,>=1.86.0->langchain-openai) (1.3.1)\n",
      "Collecting tqdm>4 (from openai<2.0.0,>=1.86.0->langchain-openai)\n",
      "  Using cached tqdm-4.67.1-py3-none-any.whl.metadata (57 kB)\n",
      "Requirement already satisfied: idna>=2.8 in c:\\users\\keaton naidoo\\pycharmprojects\\langchain-tutorial\\.venv\\lib\\site-packages (from anyio<5,>=3.5.0->openai<2.0.0,>=1.86.0->langchain-openai) (3.10)\n",
      "Requirement already satisfied: certifi in c:\\users\\keaton naidoo\\pycharmprojects\\langchain-tutorial\\.venv\\lib\\site-packages (from httpx<1,>=0.23.0->openai<2.0.0,>=1.86.0->langchain-openai) (2025.8.3)\n",
      "Requirement already satisfied: httpcore==1.* in c:\\users\\keaton naidoo\\pycharmprojects\\langchain-tutorial\\.venv\\lib\\site-packages (from httpx<1,>=0.23.0->openai<2.0.0,>=1.86.0->langchain-openai) (1.0.9)\n",
      "Requirement already satisfied: h11>=0.16 in c:\\users\\keaton naidoo\\pycharmprojects\\langchain-tutorial\\.venv\\lib\\site-packages (from httpcore==1.*->httpx<1,>=0.23.0->openai<2.0.0,>=1.86.0->langchain-openai) (0.16.0)\n",
      "Requirement already satisfied: annotated-types>=0.6.0 in c:\\users\\keaton naidoo\\pycharmprojects\\langchain-tutorial\\.venv\\lib\\site-packages (from pydantic>=2.7.4->langchain-core<1.0.0,>=0.3.74->langchain-openai) (0.7.0)\n",
      "Requirement already satisfied: pydantic-core==2.33.2 in c:\\users\\keaton naidoo\\pycharmprojects\\langchain-tutorial\\.venv\\lib\\site-packages (from pydantic>=2.7.4->langchain-core<1.0.0,>=0.3.74->langchain-openai) (2.33.2)\n",
      "Requirement already satisfied: typing-inspection>=0.4.0 in c:\\users\\keaton naidoo\\pycharmprojects\\langchain-tutorial\\.venv\\lib\\site-packages (from pydantic>=2.7.4->langchain-core<1.0.0,>=0.3.74->langchain-openai) (0.4.1)\n",
      "Collecting regex>=2022.1.18 (from tiktoken<1,>=0.7->langchain-openai)\n",
      "  Using cached regex-2025.7.34-cp313-cp313-win_amd64.whl.metadata (41 kB)\n",
      "Requirement already satisfied: requests>=2.26.0 in c:\\users\\keaton naidoo\\pycharmprojects\\langchain-tutorial\\.venv\\lib\\site-packages (from tiktoken<1,>=0.7->langchain-openai) (2.32.4)\n",
      "Requirement already satisfied: orjson>=3.9.14 in c:\\users\\keaton naidoo\\pycharmprojects\\langchain-tutorial\\.venv\\lib\\site-packages (from langsmith>=0.3.45->langchain-core<1.0.0,>=0.3.74->langchain-openai) (3.11.1)\n",
      "Requirement already satisfied: requests-toolbelt>=1.0.0 in c:\\users\\keaton naidoo\\pycharmprojects\\langchain-tutorial\\.venv\\lib\\site-packages (from langsmith>=0.3.45->langchain-core<1.0.0,>=0.3.74->langchain-openai) (1.0.0)\n",
      "Requirement already satisfied: zstandard>=0.23.0 in c:\\users\\keaton naidoo\\pycharmprojects\\langchain-tutorial\\.venv\\lib\\site-packages (from langsmith>=0.3.45->langchain-core<1.0.0,>=0.3.74->langchain-openai) (0.23.0)\n",
      "Requirement already satisfied: charset_normalizer<4,>=2 in c:\\users\\keaton naidoo\\pycharmprojects\\langchain-tutorial\\.venv\\lib\\site-packages (from requests>=2.26.0->tiktoken<1,>=0.7->langchain-openai) (3.4.2)\n",
      "Requirement already satisfied: urllib3<3,>=1.21.1 in c:\\users\\keaton naidoo\\pycharmprojects\\langchain-tutorial\\.venv\\lib\\site-packages (from requests>=2.26.0->tiktoken<1,>=0.7->langchain-openai) (2.5.0)\n",
      "Requirement already satisfied: colorama in c:\\users\\keaton naidoo\\pycharmprojects\\langchain-tutorial\\.venv\\lib\\site-packages (from tqdm>4->openai<2.0.0,>=1.86.0->langchain-openai) (0.4.6)\n",
      "Downloading langchain_openai-0.3.29-py3-none-any.whl (74 kB)\n",
      "Downloading openai-1.99.4-py3-none-any.whl (786 kB)\n",
      "   ---------------------------------------- 0.0/786.2 kB ? eta -:--:--\n",
      "   -------------------------- ------------- 524.3/786.2 kB 2.7 MB/s eta 0:00:01\n",
      "   ---------------------------------------- 786.2/786.2 kB 2.7 MB/s  0:00:00\n",
      "Using cached tiktoken-0.10.0-cp313-cp313-win_amd64.whl (876 kB)\n",
      "Using cached regex-2025.7.34-cp313-cp313-win_amd64.whl (275 kB)\n",
      "Using cached tqdm-4.67.1-py3-none-any.whl (78 kB)\n",
      "Installing collected packages: tqdm, regex, tiktoken, openai, langchain-openai\n",
      "\n",
      "   ---------------- ----------------------- 2/5 [tiktoken]\n",
      "   ------------------------ --------------- 3/5 [openai]\n",
      "   ------------------------ --------------- 3/5 [openai]\n",
      "   ------------------------ --------------- 3/5 [openai]\n",
      "   ------------------------ --------------- 3/5 [openai]\n",
      "   ------------------------ --------------- 3/5 [openai]\n",
      "   ------------------------ --------------- 3/5 [openai]\n",
      "   ------------------------ --------------- 3/5 [openai]\n",
      "   ------------------------ --------------- 3/5 [openai]\n",
      "   -------------------------------- ------- 4/5 [langchain-openai]\n",
      "   ---------------------------------------- 5/5 [langchain-openai]\n",
      "\n",
      "Successfully installed langchain-openai-0.3.29 openai-1.99.4 regex-2025.7.34 tiktoken-0.10.0 tqdm-4.67.1\n"
     ]
    }
   ],
   "execution_count": 33
  },
  {
   "metadata": {
    "ExecuteTime": {
     "end_time": "2025-08-08T16:44:43.083064Z",
     "start_time": "2025-08-08T16:44:36.404849Z"
    }
   },
   "cell_type": "code",
   "source": "!pip install langchain-community",
   "id": "ccdd1fc524308c0",
   "outputs": [
    {
     "name": "stdout",
     "output_type": "stream",
     "text": [
      "Collecting langchain-community\n",
      "  Using cached langchain_community-0.3.27-py3-none-any.whl.metadata (2.9 kB)\n",
      "Requirement already satisfied: langchain-core<1.0.0,>=0.3.66 in c:\\users\\keaton naidoo\\pycharmprojects\\langchain-tutorial\\.venv\\lib\\site-packages (from langchain-community) (0.3.74)\n",
      "Requirement already satisfied: langchain<1.0.0,>=0.3.26 in c:\\users\\keaton naidoo\\pycharmprojects\\langchain-tutorial\\.venv\\lib\\site-packages (from langchain-community) (0.3.27)\n",
      "Requirement already satisfied: SQLAlchemy<3,>=1.4 in c:\\users\\keaton naidoo\\pycharmprojects\\langchain-tutorial\\.venv\\lib\\site-packages (from langchain-community) (2.0.42)\n",
      "Requirement already satisfied: requests<3,>=2 in c:\\users\\keaton naidoo\\pycharmprojects\\langchain-tutorial\\.venv\\lib\\site-packages (from langchain-community) (2.32.4)\n",
      "Requirement already satisfied: PyYAML>=5.3 in c:\\users\\keaton naidoo\\pycharmprojects\\langchain-tutorial\\.venv\\lib\\site-packages (from langchain-community) (6.0.2)\n",
      "Collecting aiohttp<4.0.0,>=3.8.3 (from langchain-community)\n",
      "  Using cached aiohttp-3.12.15-cp313-cp313-win_amd64.whl.metadata (7.9 kB)\n",
      "Requirement already satisfied: tenacity!=8.4.0,<10,>=8.1.0 in c:\\users\\keaton naidoo\\pycharmprojects\\langchain-tutorial\\.venv\\lib\\site-packages (from langchain-community) (9.1.2)\n",
      "Collecting dataclasses-json<0.7,>=0.5.7 (from langchain-community)\n",
      "  Using cached dataclasses_json-0.6.7-py3-none-any.whl.metadata (25 kB)\n",
      "Collecting pydantic-settings<3.0.0,>=2.4.0 (from langchain-community)\n",
      "  Using cached pydantic_settings-2.10.1-py3-none-any.whl.metadata (3.4 kB)\n",
      "Requirement already satisfied: langsmith>=0.1.125 in c:\\users\\keaton naidoo\\pycharmprojects\\langchain-tutorial\\.venv\\lib\\site-packages (from langchain-community) (0.4.13)\n",
      "Collecting httpx-sse<1.0.0,>=0.4.0 (from langchain-community)\n",
      "  Using cached httpx_sse-0.4.1-py3-none-any.whl.metadata (9.4 kB)\n",
      "Requirement already satisfied: numpy>=2.1.0 in c:\\users\\keaton naidoo\\pycharmprojects\\langchain-tutorial\\.venv\\lib\\site-packages (from langchain-community) (2.3.2)\n",
      "Collecting aiohappyeyeballs>=2.5.0 (from aiohttp<4.0.0,>=3.8.3->langchain-community)\n",
      "  Using cached aiohappyeyeballs-2.6.1-py3-none-any.whl.metadata (5.9 kB)\n",
      "Collecting aiosignal>=1.4.0 (from aiohttp<4.0.0,>=3.8.3->langchain-community)\n",
      "  Using cached aiosignal-1.4.0-py3-none-any.whl.metadata (3.7 kB)\n",
      "Requirement already satisfied: attrs>=17.3.0 in c:\\users\\keaton naidoo\\pycharmprojects\\langchain-tutorial\\.venv\\lib\\site-packages (from aiohttp<4.0.0,>=3.8.3->langchain-community) (25.3.0)\n",
      "Collecting frozenlist>=1.1.1 (from aiohttp<4.0.0,>=3.8.3->langchain-community)\n",
      "  Using cached frozenlist-1.7.0-cp313-cp313-win_amd64.whl.metadata (19 kB)\n",
      "Collecting multidict<7.0,>=4.5 (from aiohttp<4.0.0,>=3.8.3->langchain-community)\n",
      "  Using cached multidict-6.6.3-cp313-cp313-win_amd64.whl.metadata (5.4 kB)\n",
      "Collecting propcache>=0.2.0 (from aiohttp<4.0.0,>=3.8.3->langchain-community)\n",
      "  Using cached propcache-0.3.2-cp313-cp313-win_amd64.whl.metadata (12 kB)\n",
      "Collecting yarl<2.0,>=1.17.0 (from aiohttp<4.0.0,>=3.8.3->langchain-community)\n",
      "  Using cached yarl-1.20.1-cp313-cp313-win_amd64.whl.metadata (76 kB)\n",
      "Collecting marshmallow<4.0.0,>=3.18.0 (from dataclasses-json<0.7,>=0.5.7->langchain-community)\n",
      "  Using cached marshmallow-3.26.1-py3-none-any.whl.metadata (7.3 kB)\n",
      "Collecting typing-inspect<1,>=0.4.0 (from dataclasses-json<0.7,>=0.5.7->langchain-community)\n",
      "  Using cached typing_inspect-0.9.0-py3-none-any.whl.metadata (1.5 kB)\n",
      "Requirement already satisfied: langchain-text-splitters<1.0.0,>=0.3.9 in c:\\users\\keaton naidoo\\pycharmprojects\\langchain-tutorial\\.venv\\lib\\site-packages (from langchain<1.0.0,>=0.3.26->langchain-community) (0.3.9)\n",
      "Requirement already satisfied: pydantic<3.0.0,>=2.7.4 in c:\\users\\keaton naidoo\\pycharmprojects\\langchain-tutorial\\.venv\\lib\\site-packages (from langchain<1.0.0,>=0.3.26->langchain-community) (2.11.7)\n",
      "Requirement already satisfied: jsonpatch<2.0,>=1.33 in c:\\users\\keaton naidoo\\pycharmprojects\\langchain-tutorial\\.venv\\lib\\site-packages (from langchain-core<1.0.0,>=0.3.66->langchain-community) (1.33)\n",
      "Requirement already satisfied: typing-extensions>=4.7 in c:\\users\\keaton naidoo\\pycharmprojects\\langchain-tutorial\\.venv\\lib\\site-packages (from langchain-core<1.0.0,>=0.3.66->langchain-community) (4.14.1)\n",
      "Requirement already satisfied: packaging>=23.2 in c:\\users\\keaton naidoo\\pycharmprojects\\langchain-tutorial\\.venv\\lib\\site-packages (from langchain-core<1.0.0,>=0.3.66->langchain-community) (25.0)\n",
      "Requirement already satisfied: jsonpointer>=1.9 in c:\\users\\keaton naidoo\\pycharmprojects\\langchain-tutorial\\.venv\\lib\\site-packages (from jsonpatch<2.0,>=1.33->langchain-core<1.0.0,>=0.3.66->langchain-community) (3.0.0)\n",
      "Requirement already satisfied: annotated-types>=0.6.0 in c:\\users\\keaton naidoo\\pycharmprojects\\langchain-tutorial\\.venv\\lib\\site-packages (from pydantic<3.0.0,>=2.7.4->langchain<1.0.0,>=0.3.26->langchain-community) (0.7.0)\n",
      "Requirement already satisfied: pydantic-core==2.33.2 in c:\\users\\keaton naidoo\\pycharmprojects\\langchain-tutorial\\.venv\\lib\\site-packages (from pydantic<3.0.0,>=2.7.4->langchain<1.0.0,>=0.3.26->langchain-community) (2.33.2)\n",
      "Requirement already satisfied: typing-inspection>=0.4.0 in c:\\users\\keaton naidoo\\pycharmprojects\\langchain-tutorial\\.venv\\lib\\site-packages (from pydantic<3.0.0,>=2.7.4->langchain<1.0.0,>=0.3.26->langchain-community) (0.4.1)\n",
      "Requirement already satisfied: python-dotenv>=0.21.0 in c:\\users\\keaton naidoo\\pycharmprojects\\langchain-tutorial\\.venv\\lib\\site-packages (from pydantic-settings<3.0.0,>=2.4.0->langchain-community) (1.1.1)\n",
      "Requirement already satisfied: charset_normalizer<4,>=2 in c:\\users\\keaton naidoo\\pycharmprojects\\langchain-tutorial\\.venv\\lib\\site-packages (from requests<3,>=2->langchain-community) (3.4.2)\n",
      "Requirement already satisfied: idna<4,>=2.5 in c:\\users\\keaton naidoo\\pycharmprojects\\langchain-tutorial\\.venv\\lib\\site-packages (from requests<3,>=2->langchain-community) (3.10)\n",
      "Requirement already satisfied: urllib3<3,>=1.21.1 in c:\\users\\keaton naidoo\\pycharmprojects\\langchain-tutorial\\.venv\\lib\\site-packages (from requests<3,>=2->langchain-community) (2.5.0)\n",
      "Requirement already satisfied: certifi>=2017.4.17 in c:\\users\\keaton naidoo\\pycharmprojects\\langchain-tutorial\\.venv\\lib\\site-packages (from requests<3,>=2->langchain-community) (2025.8.3)\n",
      "Requirement already satisfied: greenlet>=1 in c:\\users\\keaton naidoo\\pycharmprojects\\langchain-tutorial\\.venv\\lib\\site-packages (from SQLAlchemy<3,>=1.4->langchain-community) (3.2.4)\n",
      "Collecting mypy-extensions>=0.3.0 (from typing-inspect<1,>=0.4.0->dataclasses-json<0.7,>=0.5.7->langchain-community)\n",
      "  Using cached mypy_extensions-1.1.0-py3-none-any.whl.metadata (1.1 kB)\n",
      "Requirement already satisfied: httpx<1,>=0.23.0 in c:\\users\\keaton naidoo\\pycharmprojects\\langchain-tutorial\\.venv\\lib\\site-packages (from langsmith>=0.1.125->langchain-community) (0.28.1)\n",
      "Requirement already satisfied: orjson>=3.9.14 in c:\\users\\keaton naidoo\\pycharmprojects\\langchain-tutorial\\.venv\\lib\\site-packages (from langsmith>=0.1.125->langchain-community) (3.11.1)\n",
      "Requirement already satisfied: requests-toolbelt>=1.0.0 in c:\\users\\keaton naidoo\\pycharmprojects\\langchain-tutorial\\.venv\\lib\\site-packages (from langsmith>=0.1.125->langchain-community) (1.0.0)\n",
      "Requirement already satisfied: zstandard>=0.23.0 in c:\\users\\keaton naidoo\\pycharmprojects\\langchain-tutorial\\.venv\\lib\\site-packages (from langsmith>=0.1.125->langchain-community) (0.23.0)\n",
      "Requirement already satisfied: anyio in c:\\users\\keaton naidoo\\pycharmprojects\\langchain-tutorial\\.venv\\lib\\site-packages (from httpx<1,>=0.23.0->langsmith>=0.1.125->langchain-community) (4.10.0)\n",
      "Requirement already satisfied: httpcore==1.* in c:\\users\\keaton naidoo\\pycharmprojects\\langchain-tutorial\\.venv\\lib\\site-packages (from httpx<1,>=0.23.0->langsmith>=0.1.125->langchain-community) (1.0.9)\n",
      "Requirement already satisfied: h11>=0.16 in c:\\users\\keaton naidoo\\pycharmprojects\\langchain-tutorial\\.venv\\lib\\site-packages (from httpcore==1.*->httpx<1,>=0.23.0->langsmith>=0.1.125->langchain-community) (0.16.0)\n",
      "Requirement already satisfied: sniffio>=1.1 in c:\\users\\keaton naidoo\\pycharmprojects\\langchain-tutorial\\.venv\\lib\\site-packages (from anyio->httpx<1,>=0.23.0->langsmith>=0.1.125->langchain-community) (1.3.1)\n",
      "Using cached langchain_community-0.3.27-py3-none-any.whl (2.5 MB)\n",
      "Using cached aiohttp-3.12.15-cp313-cp313-win_amd64.whl (449 kB)\n",
      "Using cached dataclasses_json-0.6.7-py3-none-any.whl (28 kB)\n",
      "Using cached httpx_sse-0.4.1-py3-none-any.whl (8.1 kB)\n",
      "Using cached marshmallow-3.26.1-py3-none-any.whl (50 kB)\n",
      "Using cached multidict-6.6.3-cp313-cp313-win_amd64.whl (45 kB)\n",
      "Using cached pydantic_settings-2.10.1-py3-none-any.whl (45 kB)\n",
      "Using cached typing_inspect-0.9.0-py3-none-any.whl (8.8 kB)\n",
      "Using cached yarl-1.20.1-cp313-cp313-win_amd64.whl (86 kB)\n",
      "Using cached aiohappyeyeballs-2.6.1-py3-none-any.whl (15 kB)\n",
      "Using cached aiosignal-1.4.0-py3-none-any.whl (7.5 kB)\n",
      "Using cached frozenlist-1.7.0-cp313-cp313-win_amd64.whl (43 kB)\n",
      "Using cached mypy_extensions-1.1.0-py3-none-any.whl (5.0 kB)\n",
      "Using cached propcache-0.3.2-cp313-cp313-win_amd64.whl (40 kB)\n",
      "Installing collected packages: propcache, mypy-extensions, multidict, marshmallow, httpx-sse, frozenlist, aiohappyeyeballs, yarl, typing-inspect, aiosignal, pydantic-settings, dataclasses-json, aiohttp, langchain-community\n",
      "\n",
      "   -------------------- -------------------  7/14 [yarl]\n",
      "   ---------------------------------- ----- 12/14 [aiohttp]\n",
      "   ---------------------------------- ----- 12/14 [aiohttp]\n",
      "   ------------------------------------- -- 13/14 [langchain-community]\n",
      "   ------------------------------------- -- 13/14 [langchain-community]\n",
      "   ------------------------------------- -- 13/14 [langchain-community]\n",
      "   ------------------------------------- -- 13/14 [langchain-community]\n",
      "   ------------------------------------- -- 13/14 [langchain-community]\n",
      "   ------------------------------------- -- 13/14 [langchain-community]\n",
      "   ------------------------------------- -- 13/14 [langchain-community]\n",
      "   ------------------------------------- -- 13/14 [langchain-community]\n",
      "   ------------------------------------- -- 13/14 [langchain-community]\n",
      "   ------------------------------------- -- 13/14 [langchain-community]\n",
      "   ------------------------------------- -- 13/14 [langchain-community]\n",
      "   ------------------------------------- -- 13/14 [langchain-community]\n",
      "   ------------------------------------- -- 13/14 [langchain-community]\n",
      "   ------------------------------------- -- 13/14 [langchain-community]\n",
      "   ------------------------------------- -- 13/14 [langchain-community]\n",
      "   ------------------------------------- -- 13/14 [langchain-community]\n",
      "   ------------------------------------- -- 13/14 [langchain-community]\n",
      "   ------------------------------------- -- 13/14 [langchain-community]\n",
      "   ---------------------------------------- 14/14 [langchain-community]\n",
      "\n",
      "Successfully installed aiohappyeyeballs-2.6.1 aiohttp-3.12.15 aiosignal-1.4.0 dataclasses-json-0.6.7 frozenlist-1.7.0 httpx-sse-0.4.1 langchain-community-0.3.27 marshmallow-3.26.1 multidict-6.6.3 mypy-extensions-1.1.0 propcache-0.3.2 pydantic-settings-2.10.1 typing-inspect-0.9.0 yarl-1.20.1\n"
     ]
    }
   ],
   "execution_count": 34
  },
  {
   "metadata": {
    "ExecuteTime": {
     "end_time": "2025-08-08T17:03:56.585577Z",
     "start_time": "2025-08-08T17:03:56.432855Z"
    }
   },
   "cell_type": "code",
   "source": [
    "from langchain_community.document_loaders import WebBaseLoader\n",
    "\n",
    "loader = WebBaseLoader(\"https://docs.smith.langchain.com/\")\n",
    "\n",
    "docs = loader.load()"
   ],
   "id": "9a8fb79268314077",
   "outputs": [],
   "execution_count": 44
  },
  {
   "metadata": {
    "ExecuteTime": {
     "end_time": "2025-08-08T16:48:15.188905Z",
     "start_time": "2025-08-08T16:48:14.634008Z"
    }
   },
   "cell_type": "code",
   "source": [
    "from langchain_openai import OpenAIEmbeddings\n",
    "\n",
    "embeddings = OpenAIEmbeddings()"
   ],
   "id": "2ba82621ddb01992",
   "outputs": [],
   "execution_count": 37
  },
  {
   "metadata": {
    "ExecuteTime": {
     "end_time": "2025-08-08T16:48:41.178086Z",
     "start_time": "2025-08-08T16:48:32.118075Z"
    }
   },
   "cell_type": "code",
   "source": "!pip install faiss-cpu",
   "id": "362a4c20e2259097",
   "outputs": [
    {
     "name": "stdout",
     "output_type": "stream",
     "text": [
      "Collecting faiss-cpu\n",
      "  Downloading faiss_cpu-1.11.0.post1-cp313-cp313-win_amd64.whl.metadata (5.1 kB)\n",
      "Requirement already satisfied: numpy<3.0,>=1.25.0 in c:\\users\\keaton naidoo\\pycharmprojects\\langchain-tutorial\\.venv\\lib\\site-packages (from faiss-cpu) (2.3.2)\n",
      "Requirement already satisfied: packaging in c:\\users\\keaton naidoo\\pycharmprojects\\langchain-tutorial\\.venv\\lib\\site-packages (from faiss-cpu) (25.0)\n",
      "Downloading faiss_cpu-1.11.0.post1-cp313-cp313-win_amd64.whl (14.9 MB)\n",
      "   ---------------------------------------- 0.0/14.9 MB ? eta -:--:--\n",
      "   - -------------------------------------- 0.5/14.9 MB 2.7 MB/s eta 0:00:06\n",
      "   -- ------------------------------------- 1.0/14.9 MB 2.6 MB/s eta 0:00:06\n",
      "   ---- ----------------------------------- 1.6/14.9 MB 2.7 MB/s eta 0:00:06\n",
      "   ----- ---------------------------------- 2.1/14.9 MB 2.7 MB/s eta 0:00:05\n",
      "   ------ --------------------------------- 2.4/14.9 MB 2.2 MB/s eta 0:00:06\n",
      "   ------- -------------------------------- 2.9/14.9 MB 2.3 MB/s eta 0:00:06\n",
      "   -------- ------------------------------- 3.1/14.9 MB 2.3 MB/s eta 0:00:06\n",
      "   --------- ------------------------------ 3.7/14.9 MB 2.2 MB/s eta 0:00:06\n",
      "   ----------- ---------------------------- 4.2/14.9 MB 2.3 MB/s eta 0:00:05\n",
      "   ----------- ---------------------------- 4.5/14.9 MB 2.1 MB/s eta 0:00:05\n",
      "   ------------- -------------------------- 5.0/14.9 MB 2.2 MB/s eta 0:00:05\n",
      "   -------------- ------------------------- 5.5/14.9 MB 2.2 MB/s eta 0:00:05\n",
      "   ---------------- ----------------------- 6.3/14.9 MB 2.2 MB/s eta 0:00:04\n",
      "   ---------------- ----------------------- 6.3/14.9 MB 2.2 MB/s eta 0:00:04\n",
      "   ------------------ --------------------- 6.8/14.9 MB 2.1 MB/s eta 0:00:04\n",
      "   ------------------- -------------------- 7.3/14.9 MB 2.2 MB/s eta 0:00:04\n",
      "   ------------------- -------------------- 7.3/14.9 MB 2.2 MB/s eta 0:00:04\n",
      "   --------------------- ------------------ 8.1/14.9 MB 2.1 MB/s eta 0:00:04\n",
      "   ----------------------- ---------------- 8.7/14.9 MB 2.1 MB/s eta 0:00:03\n",
      "   ------------------------ --------------- 9.2/14.9 MB 2.2 MB/s eta 0:00:03\n",
      "   ------------------------- -------------- 9.4/14.9 MB 2.2 MB/s eta 0:00:03\n",
      "   -------------------------- ------------- 9.7/14.9 MB 2.1 MB/s eta 0:00:03\n",
      "   ---------------------------- ----------- 10.5/14.9 MB 2.1 MB/s eta 0:00:03\n",
      "   ----------------------------- ---------- 11.0/14.9 MB 2.1 MB/s eta 0:00:02\n",
      "   ------------------------------ --------- 11.3/14.9 MB 2.1 MB/s eta 0:00:02\n",
      "   ------------------------------- -------- 11.8/14.9 MB 2.1 MB/s eta 0:00:02\n",
      "   --------------------------------- ------ 12.3/14.9 MB 2.1 MB/s eta 0:00:02\n",
      "   --------------------------------- ------ 12.6/14.9 MB 2.1 MB/s eta 0:00:02\n",
      "   ----------------------------------- ---- 13.1/14.9 MB 2.1 MB/s eta 0:00:01\n",
      "   ------------------------------------ --- 13.6/14.9 MB 2.1 MB/s eta 0:00:01\n",
      "   ------------------------------------- -- 13.9/14.9 MB 2.1 MB/s eta 0:00:01\n",
      "   -------------------------------------- - 14.4/14.9 MB 2.1 MB/s eta 0:00:01\n",
      "   ---------------------------------------- 14.9/14.9 MB 2.1 MB/s  0:00:06\n",
      "Installing collected packages: faiss-cpu\n",
      "Successfully installed faiss-cpu-1.11.0.post1\n"
     ]
    }
   ],
   "execution_count": 38
  },
  {
   "metadata": {
    "ExecuteTime": {
     "end_time": "2025-08-08T17:04:05.442421Z",
     "start_time": "2025-08-08T17:04:04.902460Z"
    }
   },
   "cell_type": "code",
   "source": [
    "from langchain_community.vectorstores import FAISS\n",
    "from langchain_text_splitters import RecursiveCharacterTextSplitter\n",
    "\n",
    "text_splitter = RecursiveCharacterTextSplitter()\n",
    "documents = text_splitter.split_documents(docs)\n",
    "\n",
    "vector = FAISS.from_documents(documents, embeddings)"
   ],
   "id": "775f5c578b71c82b",
   "outputs": [],
   "execution_count": 45
  },
  {
   "metadata": {
    "ExecuteTime": {
     "end_time": "2025-08-08T16:57:22.027308Z",
     "start_time": "2025-08-08T16:57:21.994486Z"
    }
   },
   "cell_type": "code",
   "source": [
    "from langchain.chains.combine_documents import create_stuff_documents_chain\n",
    "\n",
    "prompt = ChatPromptTemplate.from_template(\"\"\"\n",
    "Answer the following question based only on the provided context\n",
    "\n",
    "<context>\n",
    "{context}\n",
    "</context>\n",
    "\n",
    "Question: {input}\n",
    "\"\"\")\n",
    "\n",
    "document_chain = create_stuff_documents_chain(llm, prompt)"
   ],
   "id": "80c246895d6fbbf9",
   "outputs": [],
   "execution_count": 41
  },
  {
   "metadata": {
    "ExecuteTime": {
     "end_time": "2025-08-08T17:04:17.044595Z",
     "start_time": "2025-08-08T17:04:14.562669Z"
    }
   },
   "cell_type": "code",
   "source": [
    "from langchain.chains import create_retrieval_chain\n",
    "\n",
    "retriever = vector.as_retriever()\n",
    "\n",
    "retrieval_chain = create_retrieval_chain(retriever, document_chain)\n",
    "\n",
    "response = retrieval_chain.invoke({\"input\": \"What is LangSmith?\"})"
   ],
   "id": "9230ddc923412279",
   "outputs": [],
   "execution_count": 46
  },
  {
   "metadata": {
    "ExecuteTime": {
     "end_time": "2025-08-08T17:04:39.224957Z",
     "start_time": "2025-08-08T17:04:39.222103Z"
    }
   },
   "cell_type": "code",
   "source": "print(response[\"answer\"])",
   "id": "2f74c9acaf31a7c",
   "outputs": [
    {
     "name": "stdout",
     "output_type": "stream",
     "text": [
      "Based on the provided context, LangSmith is a platform for building production-grade LLM (Large Language Model) applications. It allows developers to closely monitor and evaluate their LLM-based applications, enabling them to ship their applications quickly and with confidence. The key features of LangSmith mentioned in the context are:\n",
      "\n",
      "1. Observability: LangSmith provides LLM-native observability, allowing developers to get meaningful insights into their applications, from prototyping to production.\n",
      "\n",
      "2. Evals: LangSmith makes it easy to build and run high-quality evaluations for LLM applications, including collecting human feedback to improve the applications.\n",
      "\n",
      "3. Prompt Engineering: LangSmith provides tools to help developers iterate on prompts and manage them programmatically in their applications.\n",
      "\n",
      "The context also mentions that LangSmith is framework-agnostic and can be used with or without LangChain's open-source frameworks, LangChain and LangGraph.\n"
     ]
    }
   ],
   "execution_count": 48
  },
  {
   "metadata": {},
   "cell_type": "code",
   "outputs": [],
   "execution_count": null,
   "source": "",
   "id": "149b673ee5cb5a63"
  }
 ],
 "metadata": {
  "kernelspec": {
   "display_name": "Python 3",
   "language": "python",
   "name": "python3"
  },
  "language_info": {
   "codemirror_mode": {
    "name": "ipython",
    "version": 2
   },
   "file_extension": ".py",
   "mimetype": "text/x-python",
   "name": "python",
   "nbconvert_exporter": "python",
   "pygments_lexer": "ipython2",
   "version": "2.7.6"
  }
 },
 "nbformat": 4,
 "nbformat_minor": 5
}
