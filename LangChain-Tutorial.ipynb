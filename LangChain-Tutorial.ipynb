{
 "cells": [
  {
   "metadata": {
    "ExecuteTime": {
     "end_time": "2025-08-08T13:08:05.487554Z",
     "start_time": "2025-08-08T13:07:54.132951Z"
    }
   },
   "cell_type": "code",
   "source": "!pip install langchain",
   "id": "ef9ea5b4462f8fd9",
   "outputs": [
    {
     "name": "stdout",
     "output_type": "stream",
     "text": [
      "Collecting langchain\n",
      "  Downloading langchain-0.3.27-py3-none-any.whl.metadata (7.8 kB)\n",
      "Collecting langchain-core<1.0.0,>=0.3.72 (from langchain)\n",
      "  Downloading langchain_core-0.3.74-py3-none-any.whl.metadata (5.8 kB)\n",
      "Collecting langchain-text-splitters<1.0.0,>=0.3.9 (from langchain)\n",
      "  Downloading langchain_text_splitters-0.3.9-py3-none-any.whl.metadata (1.9 kB)\n",
      "Collecting langsmith>=0.1.17 (from langchain)\n",
      "  Downloading langsmith-0.4.13-py3-none-any.whl.metadata (14 kB)\n",
      "Collecting pydantic<3.0.0,>=2.7.4 (from langchain)\n",
      "  Using cached pydantic-2.11.7-py3-none-any.whl.metadata (67 kB)\n",
      "Collecting SQLAlchemy<3,>=1.4 (from langchain)\n",
      "  Downloading sqlalchemy-2.0.42-cp313-cp313-win_amd64.whl.metadata (9.8 kB)\n",
      "Requirement already satisfied: requests<3,>=2 in c:\\users\\keaton naidoo\\pycharmprojects\\langchain-tutorial\\.venv\\lib\\site-packages (from langchain) (2.32.4)\n",
      "Requirement already satisfied: PyYAML>=5.3 in c:\\users\\keaton naidoo\\pycharmprojects\\langchain-tutorial\\.venv\\lib\\site-packages (from langchain) (6.0.2)\n",
      "Collecting tenacity!=8.4.0,<10.0.0,>=8.1.0 (from langchain-core<1.0.0,>=0.3.72->langchain)\n",
      "  Downloading tenacity-9.1.2-py3-none-any.whl.metadata (1.2 kB)\n",
      "Collecting jsonpatch<2.0,>=1.33 (from langchain-core<1.0.0,>=0.3.72->langchain)\n",
      "  Downloading jsonpatch-1.33-py2.py3-none-any.whl.metadata (3.0 kB)\n",
      "Requirement already satisfied: typing-extensions>=4.7 in c:\\users\\keaton naidoo\\pycharmprojects\\langchain-tutorial\\.venv\\lib\\site-packages (from langchain-core<1.0.0,>=0.3.72->langchain) (4.14.1)\n",
      "Requirement already satisfied: packaging>=23.2 in c:\\users\\keaton naidoo\\pycharmprojects\\langchain-tutorial\\.venv\\lib\\site-packages (from langchain-core<1.0.0,>=0.3.72->langchain) (25.0)\n",
      "Requirement already satisfied: jsonpointer>=1.9 in c:\\users\\keaton naidoo\\pycharmprojects\\langchain-tutorial\\.venv\\lib\\site-packages (from jsonpatch<2.0,>=1.33->langchain-core<1.0.0,>=0.3.72->langchain) (3.0.0)\n",
      "Collecting annotated-types>=0.6.0 (from pydantic<3.0.0,>=2.7.4->langchain)\n",
      "  Using cached annotated_types-0.7.0-py3-none-any.whl.metadata (15 kB)\n",
      "Collecting pydantic-core==2.33.2 (from pydantic<3.0.0,>=2.7.4->langchain)\n",
      "  Using cached pydantic_core-2.33.2-cp313-cp313-win_amd64.whl.metadata (6.9 kB)\n",
      "Collecting typing-inspection>=0.4.0 (from pydantic<3.0.0,>=2.7.4->langchain)\n",
      "  Using cached typing_inspection-0.4.1-py3-none-any.whl.metadata (2.6 kB)\n",
      "Requirement already satisfied: charset_normalizer<4,>=2 in c:\\users\\keaton naidoo\\pycharmprojects\\langchain-tutorial\\.venv\\lib\\site-packages (from requests<3,>=2->langchain) (3.4.2)\n",
      "Requirement already satisfied: idna<4,>=2.5 in c:\\users\\keaton naidoo\\pycharmprojects\\langchain-tutorial\\.venv\\lib\\site-packages (from requests<3,>=2->langchain) (3.10)\n",
      "Requirement already satisfied: urllib3<3,>=1.21.1 in c:\\users\\keaton naidoo\\pycharmprojects\\langchain-tutorial\\.venv\\lib\\site-packages (from requests<3,>=2->langchain) (2.5.0)\n",
      "Requirement already satisfied: certifi>=2017.4.17 in c:\\users\\keaton naidoo\\pycharmprojects\\langchain-tutorial\\.venv\\lib\\site-packages (from requests<3,>=2->langchain) (2025.8.3)\n",
      "Collecting greenlet>=1 (from SQLAlchemy<3,>=1.4->langchain)\n",
      "  Downloading greenlet-3.2.4-cp313-cp313-win_amd64.whl.metadata (4.2 kB)\n",
      "Requirement already satisfied: httpx<1,>=0.23.0 in c:\\users\\keaton naidoo\\pycharmprojects\\langchain-tutorial\\.venv\\lib\\site-packages (from langsmith>=0.1.17->langchain) (0.28.1)\n",
      "Collecting orjson>=3.9.14 (from langsmith>=0.1.17->langchain)\n",
      "  Downloading orjson-3.11.1-cp313-cp313-win_amd64.whl.metadata (43 kB)\n",
      "Collecting requests-toolbelt>=1.0.0 (from langsmith>=0.1.17->langchain)\n",
      "  Downloading requests_toolbelt-1.0.0-py2.py3-none-any.whl.metadata (14 kB)\n",
      "Collecting zstandard>=0.23.0 (from langsmith>=0.1.17->langchain)\n",
      "  Downloading zstandard-0.23.0-cp313-cp313-win_amd64.whl.metadata (3.0 kB)\n",
      "Requirement already satisfied: anyio in c:\\users\\keaton naidoo\\pycharmprojects\\langchain-tutorial\\.venv\\lib\\site-packages (from httpx<1,>=0.23.0->langsmith>=0.1.17->langchain) (4.10.0)\n",
      "Requirement already satisfied: httpcore==1.* in c:\\users\\keaton naidoo\\pycharmprojects\\langchain-tutorial\\.venv\\lib\\site-packages (from httpx<1,>=0.23.0->langsmith>=0.1.17->langchain) (1.0.9)\n",
      "Requirement already satisfied: h11>=0.16 in c:\\users\\keaton naidoo\\pycharmprojects\\langchain-tutorial\\.venv\\lib\\site-packages (from httpcore==1.*->httpx<1,>=0.23.0->langsmith>=0.1.17->langchain) (0.16.0)\n",
      "Requirement already satisfied: sniffio>=1.1 in c:\\users\\keaton naidoo\\pycharmprojects\\langchain-tutorial\\.venv\\lib\\site-packages (from anyio->httpx<1,>=0.23.0->langsmith>=0.1.17->langchain) (1.3.1)\n",
      "Downloading langchain-0.3.27-py3-none-any.whl (1.0 MB)\n",
      "   ---------------------------------------- 0.0/1.0 MB ? eta -:--:--\n",
      "   -------------------- ------------------- 0.5/1.0 MB 2.7 MB/s eta 0:00:01\n",
      "   ---------------------------------------- 1.0/1.0 MB 2.6 MB/s eta 0:00:00\n",
      "Downloading langchain_core-0.3.74-py3-none-any.whl (443 kB)\n",
      "Downloading jsonpatch-1.33-py2.py3-none-any.whl (12 kB)\n",
      "Downloading langchain_text_splitters-0.3.9-py3-none-any.whl (33 kB)\n",
      "Using cached pydantic-2.11.7-py3-none-any.whl (444 kB)\n",
      "Using cached pydantic_core-2.33.2-cp313-cp313-win_amd64.whl (2.0 MB)\n",
      "Downloading sqlalchemy-2.0.42-cp313-cp313-win_amd64.whl (2.1 MB)\n",
      "   ---------------------------------------- 0.0/2.1 MB ? eta -:--:--\n",
      "   --------- ------------------------------ 0.5/2.1 MB 2.8 MB/s eta 0:00:01\n",
      "   ------------------- -------------------- 1.0/2.1 MB 2.6 MB/s eta 0:00:01\n",
      "   ----------------------------- ---------- 1.6/2.1 MB 2.6 MB/s eta 0:00:01\n",
      "   ---------------------------------------- 2.1/2.1 MB 2.6 MB/s eta 0:00:00\n",
      "Downloading tenacity-9.1.2-py3-none-any.whl (28 kB)\n",
      "Using cached annotated_types-0.7.0-py3-none-any.whl (13 kB)\n",
      "Downloading greenlet-3.2.4-cp313-cp313-win_amd64.whl (299 kB)\n",
      "Downloading langsmith-0.4.13-py3-none-any.whl (372 kB)\n",
      "Downloading orjson-3.11.1-cp313-cp313-win_amd64.whl (131 kB)\n",
      "Downloading requests_toolbelt-1.0.0-py2.py3-none-any.whl (54 kB)\n",
      "Using cached typing_inspection-0.4.1-py3-none-any.whl (14 kB)\n",
      "Downloading zstandard-0.23.0-cp313-cp313-win_amd64.whl (495 kB)\n",
      "Installing collected packages: zstandard, typing-inspection, tenacity, pydantic-core, orjson, jsonpatch, greenlet, annotated-types, SQLAlchemy, requests-toolbelt, pydantic, langsmith, langchain-core, langchain-text-splitters, langchain\n",
      "\n",
      "   ---------------- -----------------------  6/15 [greenlet]\n",
      "   --------------------- ------------------  8/15 [SQLAlchemy]\n",
      "   --------------------- ------------------  8/15 [SQLAlchemy]\n",
      "   --------------------- ------------------  8/15 [SQLAlchemy]\n",
      "   --------------------- ------------------  8/15 [SQLAlchemy]\n",
      "   --------------------- ------------------  8/15 [SQLAlchemy]\n",
      "   --------------------- ------------------  8/15 [SQLAlchemy]\n",
      "   --------------------- ------------------  8/15 [SQLAlchemy]\n",
      "   --------------------- ------------------  8/15 [SQLAlchemy]\n",
      "   -------------------------- ------------- 10/15 [pydantic]\n",
      "   -------------------------- ------------- 10/15 [pydantic]\n",
      "   -------------------------- ------------- 10/15 [pydantic]\n",
      "   ----------------------------- ---------- 11/15 [langsmith]\n",
      "   -------------------------------- ------- 12/15 [langchain-core]\n",
      "   -------------------------------- ------- 12/15 [langchain-core]\n",
      "   -------------------------------- ------- 12/15 [langchain-core]\n",
      "   ------------------------------------- -- 14/15 [langchain]\n",
      "   ------------------------------------- -- 14/15 [langchain]\n",
      "   ------------------------------------- -- 14/15 [langchain]\n",
      "   ------------------------------------- -- 14/15 [langchain]\n",
      "   ------------------------------------- -- 14/15 [langchain]\n",
      "   ------------------------------------- -- 14/15 [langchain]\n",
      "   ------------------------------------- -- 14/15 [langchain]\n",
      "   ------------------------------------- -- 14/15 [langchain]\n",
      "   ------------------------------------- -- 14/15 [langchain]\n",
      "   ------------------------------------- -- 14/15 [langchain]\n",
      "   ------------------------------------- -- 14/15 [langchain]\n",
      "   ------------------------------------- -- 14/15 [langchain]\n",
      "   ------------------------------------- -- 14/15 [langchain]\n",
      "   ------------------------------------- -- 14/15 [langchain]\n",
      "   ------------------------------------- -- 14/15 [langchain]\n",
      "   ---------------------------------------- 15/15 [langchain]\n",
      "\n",
      "Successfully installed SQLAlchemy-2.0.42 annotated-types-0.7.0 greenlet-3.2.4 jsonpatch-1.33 langchain-0.3.27 langchain-core-0.3.74 langchain-text-splitters-0.3.9 langsmith-0.4.13 orjson-3.11.1 pydantic-2.11.7 pydantic-core-2.33.2 requests-toolbelt-1.0.0 tenacity-9.1.2 typing-inspection-0.4.1 zstandard-0.23.0\n"
     ]
    },
    {
     "name": "stderr",
     "output_type": "stream",
     "text": [
      "\n",
      "[notice] A new release of pip is available: 25.1.1 -> 25.2\n",
      "[notice] To update, run: python.exe -m pip install --upgrade pip\n"
     ]
    }
   ],
   "execution_count": 3
  },
  {
   "metadata": {
    "ExecuteTime": {
     "end_time": "2025-08-08T13:08:56.901558Z",
     "start_time": "2025-08-08T13:08:54.501389Z"
    }
   },
   "cell_type": "code",
   "source": "!pip install langchain-anthropic",
   "id": "f9cf720d956e5600",
   "outputs": [
    {
     "name": "stdout",
     "output_type": "stream",
     "text": [
      "Collecting langchain-anthropic\n",
      "  Downloading langchain_anthropic-0.3.18-py3-none-any.whl.metadata (1.9 kB)\n",
      "Collecting anthropic<1,>=0.60.0 (from langchain-anthropic)\n",
      "  Downloading anthropic-0.61.0-py3-none-any.whl.metadata (27 kB)\n",
      "Requirement already satisfied: langchain-core<1.0.0,>=0.3.72 in c:\\users\\keaton naidoo\\pycharmprojects\\langchain-tutorial\\.venv\\lib\\site-packages (from langchain-anthropic) (0.3.74)\n",
      "Requirement already satisfied: pydantic<3.0.0,>=2.7.4 in c:\\users\\keaton naidoo\\pycharmprojects\\langchain-tutorial\\.venv\\lib\\site-packages (from langchain-anthropic) (2.11.7)\n",
      "Requirement already satisfied: anyio<5,>=3.5.0 in c:\\users\\keaton naidoo\\pycharmprojects\\langchain-tutorial\\.venv\\lib\\site-packages (from anthropic<1,>=0.60.0->langchain-anthropic) (4.10.0)\n",
      "Collecting distro<2,>=1.7.0 (from anthropic<1,>=0.60.0->langchain-anthropic)\n",
      "  Using cached distro-1.9.0-py3-none-any.whl.metadata (6.8 kB)\n",
      "Requirement already satisfied: httpx<1,>=0.25.0 in c:\\users\\keaton naidoo\\pycharmprojects\\langchain-tutorial\\.venv\\lib\\site-packages (from anthropic<1,>=0.60.0->langchain-anthropic) (0.28.1)\n",
      "Collecting jiter<1,>=0.4.0 (from anthropic<1,>=0.60.0->langchain-anthropic)\n",
      "  Using cached jiter-0.10.0-cp313-cp313-win_amd64.whl.metadata (5.3 kB)\n",
      "Requirement already satisfied: sniffio in c:\\users\\keaton naidoo\\pycharmprojects\\langchain-tutorial\\.venv\\lib\\site-packages (from anthropic<1,>=0.60.0->langchain-anthropic) (1.3.1)\n",
      "Requirement already satisfied: typing-extensions<5,>=4.10 in c:\\users\\keaton naidoo\\pycharmprojects\\langchain-tutorial\\.venv\\lib\\site-packages (from anthropic<1,>=0.60.0->langchain-anthropic) (4.14.1)\n",
      "Requirement already satisfied: idna>=2.8 in c:\\users\\keaton naidoo\\pycharmprojects\\langchain-tutorial\\.venv\\lib\\site-packages (from anyio<5,>=3.5.0->anthropic<1,>=0.60.0->langchain-anthropic) (3.10)\n",
      "Requirement already satisfied: certifi in c:\\users\\keaton naidoo\\pycharmprojects\\langchain-tutorial\\.venv\\lib\\site-packages (from httpx<1,>=0.25.0->anthropic<1,>=0.60.0->langchain-anthropic) (2025.8.3)\n",
      "Requirement already satisfied: httpcore==1.* in c:\\users\\keaton naidoo\\pycharmprojects\\langchain-tutorial\\.venv\\lib\\site-packages (from httpx<1,>=0.25.0->anthropic<1,>=0.60.0->langchain-anthropic) (1.0.9)\n",
      "Requirement already satisfied: h11>=0.16 in c:\\users\\keaton naidoo\\pycharmprojects\\langchain-tutorial\\.venv\\lib\\site-packages (from httpcore==1.*->httpx<1,>=0.25.0->anthropic<1,>=0.60.0->langchain-anthropic) (0.16.0)\n",
      "Requirement already satisfied: langsmith>=0.3.45 in c:\\users\\keaton naidoo\\pycharmprojects\\langchain-tutorial\\.venv\\lib\\site-packages (from langchain-core<1.0.0,>=0.3.72->langchain-anthropic) (0.4.13)\n",
      "Requirement already satisfied: tenacity!=8.4.0,<10.0.0,>=8.1.0 in c:\\users\\keaton naidoo\\pycharmprojects\\langchain-tutorial\\.venv\\lib\\site-packages (from langchain-core<1.0.0,>=0.3.72->langchain-anthropic) (9.1.2)\n",
      "Requirement already satisfied: jsonpatch<2.0,>=1.33 in c:\\users\\keaton naidoo\\pycharmprojects\\langchain-tutorial\\.venv\\lib\\site-packages (from langchain-core<1.0.0,>=0.3.72->langchain-anthropic) (1.33)\n",
      "Requirement already satisfied: PyYAML>=5.3 in c:\\users\\keaton naidoo\\pycharmprojects\\langchain-tutorial\\.venv\\lib\\site-packages (from langchain-core<1.0.0,>=0.3.72->langchain-anthropic) (6.0.2)\n",
      "Requirement already satisfied: packaging>=23.2 in c:\\users\\keaton naidoo\\pycharmprojects\\langchain-tutorial\\.venv\\lib\\site-packages (from langchain-core<1.0.0,>=0.3.72->langchain-anthropic) (25.0)\n",
      "Requirement already satisfied: jsonpointer>=1.9 in c:\\users\\keaton naidoo\\pycharmprojects\\langchain-tutorial\\.venv\\lib\\site-packages (from jsonpatch<2.0,>=1.33->langchain-core<1.0.0,>=0.3.72->langchain-anthropic) (3.0.0)\n",
      "Requirement already satisfied: annotated-types>=0.6.0 in c:\\users\\keaton naidoo\\pycharmprojects\\langchain-tutorial\\.venv\\lib\\site-packages (from pydantic<3.0.0,>=2.7.4->langchain-anthropic) (0.7.0)\n",
      "Requirement already satisfied: pydantic-core==2.33.2 in c:\\users\\keaton naidoo\\pycharmprojects\\langchain-tutorial\\.venv\\lib\\site-packages (from pydantic<3.0.0,>=2.7.4->langchain-anthropic) (2.33.2)\n",
      "Requirement already satisfied: typing-inspection>=0.4.0 in c:\\users\\keaton naidoo\\pycharmprojects\\langchain-tutorial\\.venv\\lib\\site-packages (from pydantic<3.0.0,>=2.7.4->langchain-anthropic) (0.4.1)\n",
      "Requirement already satisfied: orjson>=3.9.14 in c:\\users\\keaton naidoo\\pycharmprojects\\langchain-tutorial\\.venv\\lib\\site-packages (from langsmith>=0.3.45->langchain-core<1.0.0,>=0.3.72->langchain-anthropic) (3.11.1)\n",
      "Requirement already satisfied: requests-toolbelt>=1.0.0 in c:\\users\\keaton naidoo\\pycharmprojects\\langchain-tutorial\\.venv\\lib\\site-packages (from langsmith>=0.3.45->langchain-core<1.0.0,>=0.3.72->langchain-anthropic) (1.0.0)\n",
      "Requirement already satisfied: requests>=2.0.0 in c:\\users\\keaton naidoo\\pycharmprojects\\langchain-tutorial\\.venv\\lib\\site-packages (from langsmith>=0.3.45->langchain-core<1.0.0,>=0.3.72->langchain-anthropic) (2.32.4)\n",
      "Requirement already satisfied: zstandard>=0.23.0 in c:\\users\\keaton naidoo\\pycharmprojects\\langchain-tutorial\\.venv\\lib\\site-packages (from langsmith>=0.3.45->langchain-core<1.0.0,>=0.3.72->langchain-anthropic) (0.23.0)\n",
      "Requirement already satisfied: charset_normalizer<4,>=2 in c:\\users\\keaton naidoo\\pycharmprojects\\langchain-tutorial\\.venv\\lib\\site-packages (from requests>=2.0.0->langsmith>=0.3.45->langchain-core<1.0.0,>=0.3.72->langchain-anthropic) (3.4.2)\n",
      "Requirement already satisfied: urllib3<3,>=1.21.1 in c:\\users\\keaton naidoo\\pycharmprojects\\langchain-tutorial\\.venv\\lib\\site-packages (from requests>=2.0.0->langsmith>=0.3.45->langchain-core<1.0.0,>=0.3.72->langchain-anthropic) (2.5.0)\n",
      "Downloading langchain_anthropic-0.3.18-py3-none-any.whl (29 kB)\n",
      "Downloading anthropic-0.61.0-py3-none-any.whl (294 kB)\n",
      "Using cached distro-1.9.0-py3-none-any.whl (20 kB)\n",
      "Using cached jiter-0.10.0-cp313-cp313-win_amd64.whl (205 kB)\n",
      "Installing collected packages: jiter, distro, anthropic, langchain-anthropic\n",
      "\n",
      "   -------------------- ------------------- 2/4 [anthropic]\n",
      "   -------------------- ------------------- 2/4 [anthropic]\n",
      "   -------------------- ------------------- 2/4 [anthropic]\n",
      "   ---------------------------------------- 4/4 [langchain-anthropic]\n",
      "\n",
      "Successfully installed anthropic-0.61.0 distro-1.9.0 jiter-0.10.0 langchain-anthropic-0.3.18\n"
     ]
    },
    {
     "name": "stderr",
     "output_type": "stream",
     "text": [
      "\n",
      "[notice] A new release of pip is available: 25.1.1 -> 25.2\n",
      "[notice] To update, run: python.exe -m pip install --upgrade pip\n"
     ]
    }
   ],
   "execution_count": 4
  },
  {
   "metadata": {
    "ExecuteTime": {
     "end_time": "2025-08-08T13:43:50.013736Z",
     "start_time": "2025-08-08T13:43:48.343484Z"
    }
   },
   "cell_type": "code",
   "source": "!pip install python-dotenv",
   "id": "520a0bcf08a3c30a",
   "outputs": [
    {
     "name": "stdout",
     "output_type": "stream",
     "text": [
      "Requirement already satisfied: python-dotenv in c:\\users\\keaton naidoo\\pycharmprojects\\langchain-tutorial\\.venv\\lib\\site-packages (1.1.1)\n"
     ]
    }
   ],
   "execution_count": 13
  },
  {
   "metadata": {
    "ExecuteTime": {
     "end_time": "2025-08-08T13:43:55.721870Z",
     "start_time": "2025-08-08T13:43:55.718401Z"
    }
   },
   "cell_type": "code",
   "source": [
    "from dotenv import load_dotenv\n",
    "\n",
    "load_dotenv()"
   ],
   "id": "324925a81293f69b",
   "outputs": [
    {
     "data": {
      "text/plain": [
       "True"
      ]
     },
     "execution_count": 14,
     "metadata": {},
     "output_type": "execute_result"
    }
   ],
   "execution_count": 14
  },
  {
   "metadata": {
    "ExecuteTime": {
     "end_time": "2025-08-08T13:45:28.455141Z",
     "start_time": "2025-08-08T13:45:28.452296Z"
    }
   },
   "cell_type": "code",
   "source": [
    "from langchain_anthropic import ChatAnthropic\n",
    "\n",
    "llm = ChatAnthropic(model_name=\"claude-3-haiku-20240307\", stop=None, timeout=None)"
   ],
   "id": "aa4b4006d3852d5b",
   "outputs": [],
   "execution_count": 16
  },
  {
   "metadata": {
    "ExecuteTime": {
     "end_time": "2025-08-08T13:45:43.905760Z",
     "start_time": "2025-08-08T13:45:41.212867Z"
    }
   },
   "cell_type": "code",
   "source": "result = llm.invoke(\"What is LangChain?\")",
   "id": "2b03d63cd93b3c51",
   "outputs": [],
   "execution_count": 17
  },
  {
   "metadata": {
    "ExecuteTime": {
     "end_time": "2025-08-08T13:46:00.657181Z",
     "start_time": "2025-08-08T13:46:00.654738Z"
    }
   },
   "cell_type": "code",
   "source": "print(result)",
   "id": "1e4d5380ef3adcd6",
   "outputs": [
    {
     "name": "stdout",
     "output_type": "stream",
     "text": [
      "content='LangChain is a framework for building applications with large language models (LLMs). It provides a set of abstractions and tools to make it easier to build applications that leverage LLMs, such as chatbots, question-answering systems, and more.\\n\\nSome key features and benefits of LangChain include:\\n\\n1. **Modular Design**: LangChain has a modular design, which allows you to easily swap out different components (like the LLM, retriever, etc.) to build your application.\\n\\n2. **Agent Abstraction**: LangChain provides an \"agent\" abstraction, which allows you to build agents that can interact with their environment, maintain state, and make decisions.\\n\\n3. **Memory Management**: LangChain provides tools for managing the memory and context of an agent, which is important for building more advanced applications.\\n\\n4. **Toolkit of Reusable Components**: LangChain provides a toolkit of reusable components (like document loaders, embedders, retrievers, etc.) that you can use to build your application.\\n\\n5. **Scalability**: LangChain is designed to be scalable, with support for things like distributed document stores and caching.\\n\\n6. **Extensibility**: LangChain is designed to be extensible, with a plugin system that allows you to easily add new functionality.\\n\\nOverall, LangChain is a powerful framework for building applications that leverage large language models, and it can help accelerate the development of these types of applications.' additional_kwargs={} response_metadata={'id': 'msg_01XXWmApZ8FPZtiG5btYhVZ2', 'model': 'claude-3-haiku-20240307', 'stop_reason': 'end_turn', 'stop_sequence': None, 'usage': {'cache_creation_input_tokens': 0, 'cache_read_input_tokens': 0, 'input_tokens': 14, 'output_tokens': 335, 'server_tool_use': None, 'service_tier': 'standard'}, 'model_name': 'claude-3-haiku-20240307'} id='run--43471125-6023-4769-becf-a22d5d25157f-0' usage_metadata={'input_tokens': 14, 'output_tokens': 335, 'total_tokens': 349, 'input_token_details': {'cache_read': 0, 'cache_creation': 0}}\n"
     ]
    }
   ],
   "execution_count": 18
  },
  {
   "metadata": {
    "ExecuteTime": {
     "end_time": "2025-08-08T13:46:03.027188Z",
     "start_time": "2025-08-08T13:46:03.024793Z"
    }
   },
   "cell_type": "code",
   "source": "print(result.content)",
   "id": "aad0081c7974a16f",
   "outputs": [
    {
     "name": "stdout",
     "output_type": "stream",
     "text": [
      "LangChain is a framework for building applications with large language models (LLMs). It provides a set of abstractions and tools to make it easier to build applications that leverage LLMs, such as chatbots, question-answering systems, and more.\n",
      "\n",
      "Some key features and benefits of LangChain include:\n",
      "\n",
      "1. **Modular Design**: LangChain has a modular design, which allows you to easily swap out different components (like the LLM, retriever, etc.) to build your application.\n",
      "\n",
      "2. **Agent Abstraction**: LangChain provides an \"agent\" abstraction, which allows you to build agents that can interact with their environment, maintain state, and make decisions.\n",
      "\n",
      "3. **Memory Management**: LangChain provides tools for managing the memory and context of an agent, which is important for building more advanced applications.\n",
      "\n",
      "4. **Toolkit of Reusable Components**: LangChain provides a toolkit of reusable components (like document loaders, embedders, retrievers, etc.) that you can use to build your application.\n",
      "\n",
      "5. **Scalability**: LangChain is designed to be scalable, with support for things like distributed document stores and caching.\n",
      "\n",
      "6. **Extensibility**: LangChain is designed to be extensible, with a plugin system that allows you to easily add new functionality.\n",
      "\n",
      "Overall, LangChain is a powerful framework for building applications that leverage large language models, and it can help accelerate the development of these types of applications.\n"
     ]
    }
   ],
   "execution_count": 19
  },
  {
   "metadata": {
    "ExecuteTime": {
     "end_time": "2025-08-08T13:51:14.950645Z",
     "start_time": "2025-08-08T13:51:14.925207Z"
    }
   },
   "cell_type": "code",
   "source": [
    "from langchain_core.prompts import ChatPromptTemplate\n",
    "\n",
    "prompt = ChatPromptTemplate.from_messages([\n",
    "    (\"system\", \"You are a software development expert, training some absolute beginner students.\"),\n",
    "    (\"user\", \"{input}\")\n",
    "])\n",
    "\n",
    "print(prompt)"
   ],
   "id": "ced7993a671d0c3e",
   "outputs": [
    {
     "name": "stdout",
     "output_type": "stream",
     "text": [
      "input_variables=['input'] input_types={} partial_variables={} messages=[SystemMessagePromptTemplate(prompt=PromptTemplate(input_variables=[], input_types={}, partial_variables={}, template='You are a software development expert, training some absolute beginner students.'), additional_kwargs={}), HumanMessagePromptTemplate(prompt=PromptTemplate(input_variables=['input'], input_types={}, partial_variables={}, template='{input}'), additional_kwargs={})]\n"
     ]
    }
   ],
   "execution_count": 20
  },
  {
   "metadata": {
    "ExecuteTime": {
     "end_time": "2025-08-08T13:54:16.861054Z",
     "start_time": "2025-08-08T13:54:16.858180Z"
    }
   },
   "cell_type": "code",
   "source": [
    "chain = prompt | llm\n",
    "\n",
    "print(chain)"
   ],
   "id": "261d139c29557c8d",
   "outputs": [
    {
     "name": "stdout",
     "output_type": "stream",
     "text": [
      "first=ChatPromptTemplate(input_variables=['input'], input_types={}, partial_variables={}, messages=[SystemMessagePromptTemplate(prompt=PromptTemplate(input_variables=[], input_types={}, partial_variables={}, template='You are a software development expert, training some absolute beginner students.'), additional_kwargs={}), HumanMessagePromptTemplate(prompt=PromptTemplate(input_variables=['input'], input_types={}, partial_variables={}, template='{input}'), additional_kwargs={})]) middle=[] last=ChatAnthropic(model='claude-3-haiku-20240307', anthropic_api_url='https://api.anthropic.com', anthropic_api_key=SecretStr('**********'), model_kwargs={})\n"
     ]
    }
   ],
   "execution_count": 21
  },
  {
   "metadata": {
    "ExecuteTime": {
     "end_time": "2025-08-08T13:57:59.972448Z",
     "start_time": "2025-08-08T13:57:56.419935Z"
    }
   },
   "cell_type": "code",
   "source": "chain_result = chain.invoke({\"input\": \"What is LangChain?\"})",
   "id": "f12982661478f218",
   "outputs": [],
   "execution_count": 23
  },
  {
   "metadata": {
    "ExecuteTime": {
     "end_time": "2025-08-08T13:59:00.175185Z",
     "start_time": "2025-08-08T13:59:00.172676Z"
    }
   },
   "cell_type": "code",
   "source": "print(chain_result.content)",
   "id": "d47bba5013525125",
   "outputs": [
    {
     "name": "stdout",
     "output_type": "stream",
     "text": [
      "LangChain is a framework for building applications with large language models (LLMs). It provides a set of abstractions and tools to make it easier to build applications that leverage LLMs, such as chatbots, question-answering systems, and other types of AI-powered applications.\n",
      "\n",
      "Here are some key things to know about LangChain:\n",
      "\n",
      "1. **Agents and Chains**: LangChain provides the concept of \"agents\" and \"chains\" to help structure the flow of information and decision-making in your application. Agents are autonomous entities that can interact with the environment, while chains are sequences of agents that work together to accomplish a task.\n",
      "\n",
      "2. **Memory and Context**: LangChain helps you manage the memory and context of your application, making it easier to maintain state and keep track of relevant information as the conversation or task progresses.\n",
      "\n",
      "3. **Prompts and Prompting**: LangChain provides tools and abstractions for working with prompts, which are the inputs you provide to the LLM to generate a response. This includes things like prompt templates, dynamic prompt generation, and prompt optimization.\n",
      "\n",
      "4. **Integrations**: LangChain integrates with a variety of LLMs, including OpenAI's GPT-3, Anthropic's InstructGPT, and Hugging Face's Transformers. It also integrates with other tools and services, such as databases, APIs, and knowledge bases.\n",
      "\n",
      "5. **Components and Utilities**: LangChain provides a set of reusable components and utilities that you can use to build your application, such as text summarizers, question answerers, and knowledge bases.\n",
      "\n",
      "Overall, LangChain is designed to make it easier to build complex, scalable, and robust applications that leverage the power of large language models. It provides a structured and opinionated approach to application development, while still allowing for a high degree of customization and flexibility.\n"
     ]
    }
   ],
   "execution_count": 25
  },
  {
   "metadata": {},
   "cell_type": "code",
   "outputs": [],
   "execution_count": null,
   "source": "",
   "id": "11fd1a4aceaaefe6"
  }
 ],
 "metadata": {
  "kernelspec": {
   "display_name": "Python 3",
   "language": "python",
   "name": "python3"
  },
  "language_info": {
   "codemirror_mode": {
    "name": "ipython",
    "version": 2
   },
   "file_extension": ".py",
   "mimetype": "text/x-python",
   "name": "python",
   "nbconvert_exporter": "python",
   "pygments_lexer": "ipython2",
   "version": "2.7.6"
  }
 },
 "nbformat": 4,
 "nbformat_minor": 5
}
